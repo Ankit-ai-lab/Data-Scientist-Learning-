{
 "cells": [
  {
   "cell_type": "code",
   "execution_count": 3,
   "id": "5e19fff1",
   "metadata": {
    "scrolled": true
   },
   "outputs": [
    {
     "name": "stdout",
     "output_type": "stream",
     "text": [
      "Enter a number: 10\n",
      "10 is even\n"
     ]
    }
   ],
   "source": []
  },
  {
   "cell_type": "raw",
   "id": "9cffa43e",
   "metadata": {},
   "source": [
    "In streamlit odd even find"
   ]
  },
  {
   "cell_type": "raw",
   "id": "94298bc4",
   "metadata": {},
   "source": [
    "import streamlit as st\n",
    "\n",
    "def check_even_odd(number):\n",
    "    if number % 2 == 0:\n",
    "        return f\"{number} is even\"\n",
    "    else:\n",
    "        return f\"{number} is odd\"\n",
    "\n",
    "def main():\n",
    "    st.title(\"Even and Odd Checker\")\n",
    "    \n",
    "    user_input = st.number_input(\"Enter a number:\", min_value=0, step=1)\n",
    "    if st.button(\"Check\"):\n",
    "        result = check_even_odd(user_input)\n",
    "        st.write(result)\n",
    "\n",
    "if __name__ == \"__main__\":\n",
    "    main()\n"
   ]
  },
  {
   "cell_type": "raw",
   "id": "caae79cb",
   "metadata": {},
   "source": [
    "streamlit run even_odd_streamlit.py"
   ]
  },
  {
   "cell_type": "code",
   "execution_count": 7,
   "id": "2e3e94f1",
   "metadata": {},
   "outputs": [
    {
     "name": "stdout",
     "output_type": "stream",
     "text": [
      "Enter a number: 55\n",
      "55 is odd\n"
     ]
    }
   ],
   "source": [
    "def check_even_odd(number):\n",
    "    if number % 2 == 0:\n",
    "        return f\"{number} is even\"\n",
    "    else:\n",
    "        return f\"{number} is odd\"\n",
    "\n",
    "# Example usage:\n",
    "user_input = int(input(\"Enter a number: \"))\n",
    "result = check_even_odd(user_input)\n",
    "print(result)\n"
   ]
  },
  {
   "cell_type": "markdown",
   "id": "19505695",
   "metadata": {},
   "source": [
    "# Tkinter For GUI"
   ]
  },
  {
   "cell_type": "code",
   "execution_count": null,
   "id": "562a0613",
   "metadata": {},
   "outputs": [],
   "source": []
  },
  {
   "cell_type": "code",
   "execution_count": 13,
   "id": "8c8b1779",
   "metadata": {},
   "outputs": [],
   "source": [
    "import tkinter as tk\n",
    "\n",
    "def check_even_odd():\n",
    "    user_input = int(entry.get())\n",
    "    result = check_even_odd_function(user_input)\n",
    "    result_label.config(text=result)\n",
    "\n",
    "def check_even_odd_function(number):\n",
    "    if number % 2 == 0:\n",
    "        return f\"{number} is even\"\n",
    "    else:\n",
    "        return f\"{number} is odd\"\n",
    "\n",
    "root = tk.Tk()\n",
    "root.title(\"Even and Odd Checker\")\n",
    "\n",
    "label = tk.Label(root, text=\"Enter a number:\")\n",
    "label.pack(pady=5)\n",
    "\n",
    "entry = tk.Entry(root)\n",
    "entry.pack(pady=10)\n",
    "\n",
    "check_button = tk.Button(root, text=\"Check\", command=check_even_odd)\n",
    "check_button.pack(pady=10)\n",
    "\n",
    "result_label = tk.Label(root, text=\"\", font=(\"Arial\", 12))\n",
    "result_label.pack(pady=10)\n",
    "\n",
    "root.mainloop()\n"
   ]
  },
  {
   "cell_type": "code",
   "execution_count": null,
   "id": "5e35fa58",
   "metadata": {},
   "outputs": [],
   "source": []
  }
 ],
 "metadata": {
  "kernelspec": {
   "display_name": "Python 3 (ipykernel)",
   "language": "python",
   "name": "python3"
  },
  "language_info": {
   "codemirror_mode": {
    "name": "ipython",
    "version": 3
   },
   "file_extension": ".py",
   "mimetype": "text/x-python",
   "name": "python",
   "nbconvert_exporter": "python",
   "pygments_lexer": "ipython3",
   "version": "3.9.13"
  }
 },
 "nbformat": 4,
 "nbformat_minor": 5
}
