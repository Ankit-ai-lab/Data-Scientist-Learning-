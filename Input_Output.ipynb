{
 "cells": [
  {
   "cell_type": "code",
   "execution_count": 17,
   "id": "5f1af65e",
   "metadata": {},
   "outputs": [],
   "source": [
    "import os\n",
    "os.chdir(\"D:\\\\00Infobyte Course\\\\Python Lab File\\\\python New\")"
   ]
  },
  {
   "cell_type": "code",
   "execution_count": 18,
   "id": "eabed689",
   "metadata": {},
   "outputs": [
    {
     "name": "stdout",
     "output_type": "stream",
     "text": [
      "Enter your value: \n",
      "\n"
     ]
    }
   ],
   "source": [
    "# Python program showing \n",
    "# a use of input() \n",
    "\n",
    "val = input(\"Enter your value: \") \n",
    "print(val) \n"
   ]
  },
  {
   "cell_type": "code",
   "execution_count": 8,
   "id": "241f5725",
   "metadata": {},
   "outputs": [
    {
     "name": "stdout",
     "output_type": "stream",
     "text": [
      "What is your name?\n",
      "ankit\n",
      "ankit\n"
     ]
    }
   ],
   "source": [
    "# for new line\n",
    "\n",
    "\n",
    "name = input('What is your name?\\n')     # \\n ---> newline  ---> It causes a line break \n",
    "print(name)"
   ]
  },
  {
   "cell_type": "code",
   "execution_count": 9,
   "id": "e3b04246",
   "metadata": {},
   "outputs": [
    {
     "name": "stdout",
     "output_type": "stream",
     "text": [
      "Enter number :800\n",
      "800\n",
      "Enter name : nak\n",
      "nak\n",
      "type of number <class 'str'>\n",
      "type of name <class 'str'>\n"
     ]
    }
   ],
   "source": [
    "# Program to check input \n",
    "# type in Python \n",
    "\n",
    "num = input (\"Enter number :\") \n",
    "print(num) \n",
    "name1 = input(\"Enter name : \") \n",
    "print(name1) \n",
    "\n",
    "# Printing type of input value \n",
    "print (\"type of number\", type(num)) \n",
    "print (\"type of name\", type(name1)) \n"
   ]
  },
  {
   "cell_type": "code",
   "execution_count": 10,
   "id": "a337ac0c",
   "metadata": {},
   "outputs": [
    {
     "name": "stdout",
     "output_type": "stream",
     "text": [
      "My name is Alice and I am 30 years old. Nice to meet you!\n"
     ]
    }
   ],
   "source": [
    "name = \"Alice\"\n",
    "age = 30\n",
    "print(\"My name is\", name, \"and I am\", age, \"years old.\", end=\" \")\n",
    "print(\"Nice to meet you!\")\n"
   ]
  },
  {
   "cell_type": "markdown",
   "id": "66d0377d",
   "metadata": {},
   "source": [
    "# Output Formatting"
   ]
  },
  {
   "cell_type": "code",
   "execution_count": 12,
   "id": "649824e1",
   "metadata": {},
   "outputs": [
    {
     "name": "stdout",
     "output_type": "stream",
     "text": [
      "Good :  1, Portal :  5.33\n",
      "Total students : 240, Boys : 120\n",
      "    031\n",
      " 3.561E+02\n"
     ]
    }
   ],
   "source": [
    "# Python program showing how to use string modulo operator(%)\n",
    "\n",
    "print(\"Good : %2d, Portal : %5.2f\" % (1, 05.333)) \n",
    "\n",
    "print(\"Total students : %3d, Boys : %2d\" % (240, 120)) # print integer value\n",
    "\n",
    "print(\"%7.3o\" % (25)) # print octal value\n",
    "\n",
    "print(\"%10.3E\" % (356.08977)) # print exponential value\n"
   ]
  },
  {
   "cell_type": "code",
   "execution_count": 14,
   "id": "b4c52f1b",
   "metadata": {},
   "outputs": [
    {
     "name": "stdout",
     "output_type": "stream",
     "text": [
      "I love You for \"Sky!\"\n",
      "You and Portal\n",
      "Portal and You\n",
      "I love You for \"You!\"\n",
      "You and Portal\n"
     ]
    }
   ],
   "source": [
    "#2\n",
    "print('I love {} for \"{}!\"'.format('You', 'Sky'))\n",
    "\n",
    "# using format() method and referring a position of the object\n",
    "print('{0} and {1}'.format('You', 'Portal'))\n",
    "\n",
    "print('{1} and {0}'.format('You', 'Portal'))\n",
    "\n",
    "print(f\"I love {'You'} for \\\"{'You'}!\\\"\")\n",
    "\n",
    "# using format() method and referring a position of the object\n",
    "print(f\"{'You'} and {'Portal'}\")\n"
   ]
  },
  {
   "cell_type": "code",
   "execution_count": 16,
   "id": "bc2d9a4c",
   "metadata": {},
   "outputs": [
    {
     "name": "stdout",
     "output_type": "stream",
     "text": [
      "Center aligned string with fillchr: \n",
      "############I love Teaching#############\n",
      "The left aligned string is : \n",
      "I love Teaching-------------------------\n",
      "The right aligned string is : \n",
      "-------------------------I love Teaching\n"
     ]
    }
   ],
   "source": [
    "cstr = \"I love Teaching\"\n",
    "\n",
    "# Printing the center aligned string with fillchr\n",
    "print(\"Center aligned string with fillchr: \")\n",
    "print(cstr.center(40, '#'))\n",
    "\n",
    "# Printing the left aligned string with \"-\" padding\n",
    "print(\"The left aligned string is : \")\n",
    "print(cstr.ljust(40, '-'))\n",
    "\n",
    "# Printing the right aligned string with \"-\" padding\n",
    "print(\"The right aligned string is : \")\n",
    "print(cstr.rjust(40, '-'))\n"
   ]
  },
  {
   "cell_type": "code",
   "execution_count": null,
   "id": "7ab177e1",
   "metadata": {},
   "outputs": [],
   "source": []
  }
 ],
 "metadata": {
  "kernelspec": {
   "display_name": "Python 3 (ipykernel)",
   "language": "python",
   "name": "python3"
  },
  "language_info": {
   "codemirror_mode": {
    "name": "ipython",
    "version": 3
   },
   "file_extension": ".py",
   "mimetype": "text/x-python",
   "name": "python",
   "nbconvert_exporter": "python",
   "pygments_lexer": "ipython3",
   "version": "3.9.13"
  }
 },
 "nbformat": 4,
 "nbformat_minor": 5
}
