{
 "cells": [
  {
   "cell_type": "markdown",
   "id": "4bf7ffe1",
   "metadata": {},
   "source": [
    "# Object Oriented Programming :\n",
    "- Object-Oriented Programming is a way of organizing and designing code in Python (and many other programming languages) that mimics how we think about and interact with objects in the real world. \n",
    "- In OOP, we create \"objects\" that represent real-world entities, and these objects have \"attributes\" (characteristics) and \"methods\" (actions) that define their behavior.\n",
    "- It brings structure, organization, and reusability to our code, making it more efficient and easier to manage.\n",
    "- OOP is a fundamental concept in modern programming and widely used in creating complex applications and software systems."
   ]
  },
  {
   "cell_type": "markdown",
   "id": "5749efed",
   "metadata": {},
   "source": [
    "### 1. Class:\n",
    "- In OOP, a class is like a blueprint that defines the structure of an object. \n",
    "- A class describes what a specific type of object can do and what attributes it has. \n",
    "- For example, the DOG class will describe what a Dog is and what attributes and methods it should have."
   ]
  },
  {
   "cell_type": "code",
   "execution_count": 181,
   "id": "6433cd25",
   "metadata": {},
   "outputs": [],
   "source": [
    "class Car:\n",
    "    def __init__(self,make, model, color):    # constructor/magic method\n",
    "        self.make = make\n",
    "        self.model = model\n",
    "        self.color = color\n",
    "        \n",
    "    def accelarate(self):\n",
    "        print(f\"{self.model} is accelarating\")\n",
    "\n",
    "    def brake(self):\n",
    "        print(f'{self.model} is stopped.')\n",
    "        \n",
    "    def clutch(self):\n",
    "        print('Clutch pressed.....')"
   ]
  },
  {
   "cell_type": "code",
   "execution_count": 182,
   "id": "531f0b4d",
   "metadata": {},
   "outputs": [],
   "source": [
    "car1 = Car('BMW','sedan','red')"
   ]
  },
  {
   "cell_type": "code",
   "execution_count": 183,
   "id": "e97a2aee",
   "metadata": {},
   "outputs": [],
   "source": [
    "car2 = Car(\"HYundai\",'verna','black')"
   ]
  },
  {
   "cell_type": "code",
   "execution_count": 184,
   "id": "5c920d18",
   "metadata": {},
   "outputs": [
    {
     "name": "stdout",
     "output_type": "stream",
     "text": [
      "verna is accelarating\n"
     ]
    }
   ],
   "source": [
    "car2.accelarate()"
   ]
  },
  {
   "cell_type": "code",
   "execution_count": 185,
   "id": "b192983c",
   "metadata": {},
   "outputs": [
    {
     "name": "stdout",
     "output_type": "stream",
     "text": [
      "sedan is accelarating\n"
     ]
    }
   ],
   "source": [
    "car1.accelarate()"
   ]
  },
  {
   "cell_type": "code",
   "execution_count": 186,
   "id": "8541f19e",
   "metadata": {},
   "outputs": [
    {
     "data": {
      "text/plain": [
       "'BMW'"
      ]
     },
     "execution_count": 186,
     "metadata": {},
     "output_type": "execute_result"
    }
   ],
   "source": [
    "car1.make"
   ]
  },
  {
   "cell_type": "code",
   "execution_count": 187,
   "id": "428ab1f7",
   "metadata": {},
   "outputs": [
    {
     "name": "stdout",
     "output_type": "stream",
     "text": [
      "sedan is stopped.\n"
     ]
    }
   ],
   "source": [
    "car1.brake()"
   ]
  },
  {
   "cell_type": "code",
   "execution_count": 188,
   "id": "384df4c2",
   "metadata": {},
   "outputs": [
    {
     "name": "stdout",
     "output_type": "stream",
     "text": [
      "Clutch pressed.....\n"
     ]
    }
   ],
   "source": [
    "car1.clutch()"
   ]
  },
  {
   "cell_type": "code",
   "execution_count": 189,
   "id": "b0515d1b",
   "metadata": {},
   "outputs": [],
   "source": [
    "car2 = Car('ROlls ROYACE','FANTOM','BLACK')"
   ]
  },
  {
   "cell_type": "code",
   "execution_count": 190,
   "id": "72894a30",
   "metadata": {},
   "outputs": [
    {
     "data": {
      "text/plain": [
       "'ROlls ROYACE'"
      ]
     },
     "execution_count": 190,
     "metadata": {},
     "output_type": "execute_result"
    }
   ],
   "source": [
    "car2.make"
   ]
  },
  {
   "cell_type": "code",
   "execution_count": 191,
   "id": "42fe83f1",
   "metadata": {},
   "outputs": [
    {
     "ename": "AttributeError",
     "evalue": "'Car' object has no attribute 'accerlarate'",
     "output_type": "error",
     "traceback": [
      "\u001b[1;31m---------------------------------------------------------------------------\u001b[0m",
      "\u001b[1;31mAttributeError\u001b[0m                            Traceback (most recent call last)",
      "\u001b[1;32m~\\AppData\\Local\\Temp\\ipykernel_15596\\2893970104.py\u001b[0m in \u001b[0;36m<module>\u001b[1;34m\u001b[0m\n\u001b[1;32m----> 1\u001b[1;33m \u001b[0mcar2\u001b[0m\u001b[1;33m.\u001b[0m\u001b[0maccerlarate\u001b[0m\u001b[1;33m(\u001b[0m\u001b[1;33m)\u001b[0m\u001b[1;33m\u001b[0m\u001b[1;33m\u001b[0m\u001b[0m\n\u001b[0m",
      "\u001b[1;31mAttributeError\u001b[0m: 'Car' object has no attribute 'accerlarate'"
     ]
    }
   ],
   "source": [
    "car2.accerlarate()"
   ]
  },
  {
   "cell_type": "code",
   "execution_count": 192,
   "id": "d031b917",
   "metadata": {},
   "outputs": [
    {
     "ename": "AttributeError",
     "evalue": "'Car' object has no attribute 'accerlarate'",
     "output_type": "error",
     "traceback": [
      "\u001b[1;31m---------------------------------------------------------------------------\u001b[0m",
      "\u001b[1;31mAttributeError\u001b[0m                            Traceback (most recent call last)",
      "\u001b[1;32m~\\AppData\\Local\\Temp\\ipykernel_15596\\2465479358.py\u001b[0m in \u001b[0;36m<module>\u001b[1;34m\u001b[0m\n\u001b[1;32m----> 1\u001b[1;33m \u001b[0mcar1\u001b[0m\u001b[1;33m.\u001b[0m\u001b[0maccerlarate\u001b[0m\u001b[1;33m(\u001b[0m\u001b[1;33m)\u001b[0m\u001b[1;33m\u001b[0m\u001b[1;33m\u001b[0m\u001b[0m\n\u001b[0m",
      "\u001b[1;31mAttributeError\u001b[0m: 'Car' object has no attribute 'accerlarate'"
     ]
    }
   ],
   "source": [
    "car1.accerlarate()"
   ]
  },
  {
   "cell_type": "code",
   "execution_count": 193,
   "id": "b753ae66",
   "metadata": {},
   "outputs": [],
   "source": [
    "car3 = Car('abc','zys','red')"
   ]
  },
  {
   "cell_type": "code",
   "execution_count": 14,
   "id": "7e7a89f2",
   "metadata": {},
   "outputs": [
    {
     "ename": "AttributeError",
     "evalue": "'Car' object has no attribute 'accerlarate'",
     "output_type": "error",
     "traceback": [
      "\u001b[1;31m---------------------------------------------------------------------------\u001b[0m",
      "\u001b[1;31mAttributeError\u001b[0m                            Traceback (most recent call last)",
      "\u001b[1;32m~\\AppData\\Local\\Temp\\ipykernel_18880\\683711251.py\u001b[0m in \u001b[0;36m<module>\u001b[1;34m\u001b[0m\n\u001b[1;32m----> 1\u001b[1;33m \u001b[0mcar3\u001b[0m\u001b[1;33m.\u001b[0m\u001b[0maccerlarate\u001b[0m\u001b[1;33m(\u001b[0m\u001b[1;33m)\u001b[0m\u001b[1;33m\u001b[0m\u001b[1;33m\u001b[0m\u001b[0m\n\u001b[0m",
      "\u001b[1;31mAttributeError\u001b[0m: 'Car' object has no attribute 'accerlarate'"
     ]
    }
   ],
   "source": [
    "car3.accerlarate()"
   ]
  },
  {
   "cell_type": "code",
   "execution_count": 15,
   "id": "938f2c72",
   "metadata": {},
   "outputs": [
    {
     "data": {
      "text/plain": [
       "'abc'"
      ]
     },
     "execution_count": 15,
     "metadata": {},
     "output_type": "execute_result"
    }
   ],
   "source": [
    "car3.make"
   ]
  },
  {
   "cell_type": "code",
   "execution_count": 16,
   "id": "1c6bb843",
   "metadata": {},
   "outputs": [
    {
     "ename": "AttributeError",
     "evalue": "'Car' object has no attribute 'cluthch'",
     "output_type": "error",
     "traceback": [
      "\u001b[1;31m---------------------------------------------------------------------------\u001b[0m",
      "\u001b[1;31mAttributeError\u001b[0m                            Traceback (most recent call last)",
      "\u001b[1;32m~\\AppData\\Local\\Temp\\ipykernel_18880\\4027264797.py\u001b[0m in \u001b[0;36m<module>\u001b[1;34m\u001b[0m\n\u001b[1;32m----> 1\u001b[1;33m \u001b[0mcar1\u001b[0m\u001b[1;33m.\u001b[0m\u001b[0mcluthch\u001b[0m\u001b[1;33m(\u001b[0m\u001b[1;33m)\u001b[0m\u001b[1;33m\u001b[0m\u001b[1;33m\u001b[0m\u001b[0m\n\u001b[0m",
      "\u001b[1;31mAttributeError\u001b[0m: 'Car' object has no attribute 'cluthch'"
     ]
    }
   ],
   "source": [
    "car1.cluthch()"
   ]
  },
  {
   "cell_type": "code",
   "execution_count": 17,
   "id": "d0aa4269",
   "metadata": {},
   "outputs": [],
   "source": [
    "class Dog:\n",
    "    def __init__(self, name, age, breed):\n",
    "        self.name = name\n",
    "        self.age = age\n",
    "        self.breed = breed\n",
    "        print(\"OBJECT CREATED..\")\n",
    "        print(id(self))\n",
    "\n",
    "        \n",
    "    def bark(self):\n",
    "        return \"Woof! Woof!\"\n",
    "\n",
    "    def pratic(self, item):\n",
    "        return f\"{self.name} fetches the {item}.\"\n",
    "    \n",
    "    def greet(self,name):\n",
    "        return f\"{self.name} greets {name}.\"\n",
    "    \n",
    "    def bite(self,name):\n",
    "        return f\"{self.name} bites {name}.\"\n"
   ]
  },
  {
   "cell_type": "code",
   "execution_count": 18,
   "id": "a25cf784",
   "metadata": {},
   "outputs": [
    {
     "name": "stdout",
     "output_type": "stream",
     "text": [
      "OBJECT CREATED..\n",
      "2003322419664\n"
     ]
    }
   ],
   "source": [
    "d1 = Dog('a',15,'pomerenia')"
   ]
  },
  {
   "cell_type": "code",
   "execution_count": 19,
   "id": "3029670a",
   "metadata": {},
   "outputs": [
    {
     "name": "stdout",
     "output_type": "stream",
     "text": [
      "OBJECT CREATED..\n",
      "2003322420000\n"
     ]
    }
   ],
   "source": [
    "d2 = Dog('b',33,'kfafksd')"
   ]
  },
  {
   "cell_type": "code",
   "execution_count": 20,
   "id": "baa95166",
   "metadata": {},
   "outputs": [
    {
     "data": {
      "text/plain": [
       "'a bites saontosh.'"
      ]
     },
     "execution_count": 20,
     "metadata": {},
     "output_type": "execute_result"
    }
   ],
   "source": [
    "d1.bite('saontosh')"
   ]
  },
  {
   "cell_type": "markdown",
   "id": "d6e106d8",
   "metadata": {},
   "source": [
    "### 2. Object:\n",
    "- An object is a specific instance created from a class. \n",
    "- In our Dog example, each individual dog we create will be an object. \n",
    "- Each dog object will have its own unique name, age, and breed."
   ]
  },
  {
   "cell_type": "code",
   "execution_count": 21,
   "id": "551e7a1f",
   "metadata": {},
   "outputs": [
    {
     "name": "stdout",
     "output_type": "stream",
     "text": [
      "OBJECT CREATED..\n",
      "2003322420864\n",
      "OBJECT CREATED..\n",
      "2003322419712\n"
     ]
    }
   ],
   "source": [
    "dog1 = Dog(\"Buddy\", 3, \"Labrador\")\n",
    "dog2 = Dog(\"Max\", 5, \"Golden Retriever\")"
   ]
  },
  {
   "cell_type": "code",
   "execution_count": 22,
   "id": "5ad55ce9",
   "metadata": {},
   "outputs": [
    {
     "data": {
      "text/plain": [
       "'Woof! Woof!'"
      ]
     },
     "execution_count": 22,
     "metadata": {},
     "output_type": "execute_result"
    }
   ],
   "source": [
    "dog2.bark()"
   ]
  },
  {
   "cell_type": "code",
   "execution_count": 23,
   "id": "502bdb46",
   "metadata": {},
   "outputs": [
    {
     "data": {
      "text/plain": [
       "'Woof! Woof!'"
      ]
     },
     "execution_count": 23,
     "metadata": {},
     "output_type": "execute_result"
    }
   ],
   "source": [
    "dog1.bark()"
   ]
  },
  {
   "cell_type": "code",
   "execution_count": 24,
   "id": "c4be2b11",
   "metadata": {},
   "outputs": [
    {
     "data": {
      "text/plain": [
       "'Max'"
      ]
     },
     "execution_count": 24,
     "metadata": {},
     "output_type": "execute_result"
    }
   ],
   "source": [
    "dog2.name"
   ]
  },
  {
   "cell_type": "code",
   "execution_count": 25,
   "id": "70a4d22d",
   "metadata": {},
   "outputs": [
    {
     "data": {
      "text/plain": [
       "'Max greets atharva.'"
      ]
     },
     "execution_count": 25,
     "metadata": {},
     "output_type": "execute_result"
    }
   ],
   "source": [
    "dog2.greet('atharva')"
   ]
  },
  {
   "cell_type": "code",
   "execution_count": 26,
   "id": "94284f5d",
   "metadata": {},
   "outputs": [
    {
     "data": {
      "text/plain": [
       "'Max bites atharva.'"
      ]
     },
     "execution_count": 26,
     "metadata": {},
     "output_type": "execute_result"
    }
   ],
   "source": [
    "dog2.bite('atharva')"
   ]
  },
  {
   "cell_type": "code",
   "execution_count": 27,
   "id": "57193ea5",
   "metadata": {},
   "outputs": [
    {
     "data": {
      "text/plain": [
       "'Buddy greets abc.'"
      ]
     },
     "execution_count": 27,
     "metadata": {},
     "output_type": "execute_result"
    }
   ],
   "source": [
    "dog1.greet('abc')"
   ]
  },
  {
   "cell_type": "code",
   "execution_count": 28,
   "id": "08d313e7",
   "metadata": {},
   "outputs": [
    {
     "data": {
      "text/plain": [
       "'Max greets xyz.'"
      ]
     },
     "execution_count": 28,
     "metadata": {},
     "output_type": "execute_result"
    }
   ],
   "source": [
    "dog2.greet('xyz')"
   ]
  },
  {
   "cell_type": "markdown",
   "id": "87b0f13a",
   "metadata": {},
   "source": [
    "### 3. Attributes:\n",
    "- Attributes are characteristics of an object. \n",
    "- In our Dog example, the attributes are the name, age, and breed of each dog.\n",
    "- They help describe the dog's identity."
   ]
  },
  {
   "cell_type": "code",
   "execution_count": 29,
   "id": "266d40ce",
   "metadata": {},
   "outputs": [
    {
     "name": "stdout",
     "output_type": "stream",
     "text": [
      "Buddy\n",
      "5\n"
     ]
    }
   ],
   "source": [
    "print(dog1.name)  # Output: \"Buddy\"\n",
    "print(dog2.age)   # Output: 5\n"
   ]
  },
  {
   "cell_type": "markdown",
   "id": "6ba38d20",
   "metadata": {},
   "source": [
    "### 4. Methods:\n",
    "- Methods are actions that an object can perform. \n",
    "- In our Dog example, methods could be actions like barking or fetching an item.\n",
    "- Methods define what the dog can do."
   ]
  },
  {
   "cell_type": "code",
   "execution_count": 31,
   "id": "a9d24141",
   "metadata": {},
   "outputs": [
    {
     "name": "stdout",
     "output_type": "stream",
     "text": [
      "Woof! Woof!\n",
      "Max fetches the ball.\n"
     ]
    }
   ],
   "source": [
    "print(dog1.bark())  # Output: \"Woof! Woof!\"\n",
    "print(dog2.pratic(\"ball\"))  # Output: \"Max fetches the ball.\""
   ]
  },
  {
   "cell_type": "markdown",
   "id": "f28a9e1c",
   "metadata": {},
   "source": [
    "### Advantages of OOP:\n",
    "\n",
    "**OOP provides several benefits, including:**\n",
    "\n",
    "1. `Code Reusability:` You can create multiple objects from a single class, promoting code reuse and reducing duplication.\n",
    "2. `Modularity:` OOP allows you to divide your code into small, manageable pieces (objects), making it easier to maintain and understand.\n",
    "3. `Encapsulation:` Encapsulation hides the internal details of an object, making it easier to use and less prone to errors.\n",
    "4. `Inheritance:` Inheritance allows you to create new classes that inherit attributes and methods from existing classes, promoting code reuse and extending functionality.\n",
    "5. `Polymorphism:` Polymorphism allows you to use objects of different classes interchangeably, providing flexibility in coding."
   ]
  },
  {
   "cell_type": "code",
   "execution_count": 35,
   "id": "aa7d3a96",
   "metadata": {},
   "outputs": [
    {
     "ename": "AttributeError",
     "evalue": "'str' object has no attribute 'len'",
     "output_type": "error",
     "traceback": [
      "\u001b[1;31m---------------------------------------------------------------------------\u001b[0m",
      "\u001b[1;31mAttributeError\u001b[0m                            Traceback (most recent call last)",
      "\u001b[1;32m~\\AppData\\Local\\Temp\\ipykernel_17060\\80881161.py\u001b[0m in \u001b[0;36m<module>\u001b[1;34m\u001b[0m\n\u001b[0;32m      1\u001b[0m \u001b[0ms\u001b[0m \u001b[1;33m=\u001b[0m \u001b[1;34m\"6\"\u001b[0m\u001b[1;33m\u001b[0m\u001b[1;33m\u001b[0m\u001b[0m\n\u001b[1;32m----> 2\u001b[1;33m \u001b[0mprint\u001b[0m\u001b[1;33m(\u001b[0m\u001b[0ms\u001b[0m\u001b[1;33m.\u001b[0m\u001b[0mlen\u001b[0m\u001b[1;33m)\u001b[0m\u001b[1;33m\u001b[0m\u001b[1;33m\u001b[0m\u001b[0m\n\u001b[0m",
      "\u001b[1;31mAttributeError\u001b[0m: 'str' object has no attribute 'len'"
     ]
    }
   ],
   "source": []
  },
  {
   "cell_type": "code",
   "execution_count": 33,
   "id": "a1c8dba3",
   "metadata": {},
   "outputs": [
    {
     "ename": "AttributeError",
     "evalue": "type object 'list' has no attribute 'upper'",
     "output_type": "error",
     "traceback": [
      "\u001b[1;31m---------------------------------------------------------------------------\u001b[0m",
      "\u001b[1;31mAttributeError\u001b[0m                            Traceback (most recent call last)",
      "\u001b[1;32m~\\AppData\\Local\\Temp\\ipykernel_17060\\558905466.py\u001b[0m in \u001b[0;36m<module>\u001b[1;34m\u001b[0m\n\u001b[1;32m----> 1\u001b[1;33m \u001b[0mlist\u001b[0m\u001b[1;33m.\u001b[0m\u001b[0mupper\u001b[0m\u001b[1;33m(\u001b[0m\u001b[1;33m)\u001b[0m\u001b[1;33m\u001b[0m\u001b[1;33m\u001b[0m\u001b[0m\n\u001b[0m",
      "\u001b[1;31mAttributeError\u001b[0m: type object 'list' has no attribute 'upper'"
     ]
    }
   ],
   "source": [
    "list.upper()"
   ]
  },
  {
   "cell_type": "code",
   "execution_count": 35,
   "id": "0ff4360d",
   "metadata": {},
   "outputs": [],
   "source": [
    "class Account:\n",
    "    def __init__(self,a_number, c_name, balance):\n",
    "        self.account_number = a_number\n",
    "        self.customer_name = c_name\n",
    "        self.balance = balance\n",
    "        \n",
    "    def deposit(self, amount : float) -> float:\n",
    "        self.balance += amount\n",
    "        print(\"Successfully Deposited\")\n",
    "        \n",
    "    def withdraw(self, amount):\n",
    "        if amount < self.balance:\n",
    "            self.balance -= amount\n",
    "            print(f\"Successfully withdrawn {amount}\")\n",
    "        else:\n",
    "            print(\"Gareeb\")\n",
    "            \n",
    "    def get_balance(self):\n",
    "        return self.balance\n",
    "    \n",
    "    def display_info(self):\n",
    "        print(f\"Your account number is : {self.account_number}\")\n",
    "        print(f\"Your balance is : {self.balance}\")\n",
    "        print(f\"YOur name is : {self.customer_name}\")"
   ]
  },
  {
   "cell_type": "code",
   "execution_count": 36,
   "id": "e36187f7",
   "metadata": {},
   "outputs": [],
   "source": [
    "c1 = Account('122334455', 'Justin', 2000)"
   ]
  },
  {
   "cell_type": "code",
   "execution_count": 37,
   "id": "17c1b73c",
   "metadata": {},
   "outputs": [
    {
     "name": "stdout",
     "output_type": "stream",
     "text": [
      "Successfully Deposited\n"
     ]
    }
   ],
   "source": [
    "c1.deposit(500)"
   ]
  },
  {
   "cell_type": "code",
   "execution_count": 38,
   "id": "f9d61c4b",
   "metadata": {},
   "outputs": [
    {
     "data": {
      "text/plain": [
       "2500"
      ]
     },
     "execution_count": 38,
     "metadata": {},
     "output_type": "execute_result"
    }
   ],
   "source": [
    "c1.balance"
   ]
  },
  {
   "cell_type": "code",
   "execution_count": 39,
   "id": "e01a6ef0",
   "metadata": {},
   "outputs": [
    {
     "name": "stdout",
     "output_type": "stream",
     "text": [
      "Successfully withdrawn 600\n"
     ]
    }
   ],
   "source": [
    "c1.withdraw(600)"
   ]
  },
  {
   "cell_type": "code",
   "execution_count": 40,
   "id": "e179769e",
   "metadata": {},
   "outputs": [
    {
     "data": {
      "text/plain": [
       "1900"
      ]
     },
     "execution_count": 40,
     "metadata": {},
     "output_type": "execute_result"
    }
   ],
   "source": [
    "c1.balance"
   ]
  },
  {
   "cell_type": "code",
   "execution_count": 41,
   "id": "b19c5df5",
   "metadata": {},
   "outputs": [
    {
     "name": "stdout",
     "output_type": "stream",
     "text": [
      "Gareeb\n"
     ]
    }
   ],
   "source": [
    "c1.withdraw(40000)"
   ]
  },
  {
   "cell_type": "code",
   "execution_count": 42,
   "id": "d544cb56",
   "metadata": {},
   "outputs": [
    {
     "name": "stdout",
     "output_type": "stream",
     "text": [
      "Your account number is : 122334455\n",
      "Your balance is : 1900\n",
      "YOur name is : Justin\n"
     ]
    }
   ],
   "source": [
    "c1.display_info()"
   ]
  },
  {
   "cell_type": "code",
   "execution_count": 43,
   "id": "27862066",
   "metadata": {},
   "outputs": [],
   "source": [
    "c2 = Account('234234','Dustin',5000)"
   ]
  },
  {
   "cell_type": "code",
   "execution_count": 44,
   "id": "c5fd77ef",
   "metadata": {},
   "outputs": [
    {
     "name": "stdout",
     "output_type": "stream",
     "text": [
      "Your account number is : 234234\n",
      "Your balance is : 5000\n",
      "YOur name is : Dustin\n"
     ]
    }
   ],
   "source": [
    "c2.display_info()"
   ]
  },
  {
   "cell_type": "code",
   "execution_count": 45,
   "id": "9791e0a9",
   "metadata": {},
   "outputs": [
    {
     "name": "stdout",
     "output_type": "stream",
     "text": [
      "Successfully Deposited\n"
     ]
    }
   ],
   "source": [
    "c2.deposit(5000)"
   ]
  },
  {
   "cell_type": "code",
   "execution_count": 46,
   "id": "21ad84c1",
   "metadata": {},
   "outputs": [
    {
     "name": "stdout",
     "output_type": "stream",
     "text": [
      "Successfully withdrawn 3000\n"
     ]
    }
   ],
   "source": [
    "c2.withdraw(3000)"
   ]
  },
  {
   "cell_type": "code",
   "execution_count": 47,
   "id": "610baf88",
   "metadata": {},
   "outputs": [
    {
     "name": "stdout",
     "output_type": "stream",
     "text": [
      "Successfully Deposited\n"
     ]
    }
   ],
   "source": [
    "c1.deposit(50000)"
   ]
  },
  {
   "cell_type": "code",
   "execution_count": 48,
   "id": "9759c866",
   "metadata": {},
   "outputs": [
    {
     "name": "stdout",
     "output_type": "stream",
     "text": [
      "Your account number is : 122334455\n",
      "Your balance is : 51900\n",
      "YOur name is : Justin\n"
     ]
    }
   ],
   "source": [
    "c1.display_info()"
   ]
  },
  {
   "cell_type": "code",
   "execution_count": 49,
   "id": "e63c8281",
   "metadata": {},
   "outputs": [
    {
     "name": "stdout",
     "output_type": "stream",
     "text": [
      "Your account number is : 234234\n",
      "Your balance is : 7000\n",
      "YOur name is : Dustin\n"
     ]
    }
   ],
   "source": [
    "c2.display_info()"
   ]
  },
  {
   "cell_type": "code",
   "execution_count": 50,
   "id": "86d8fc6e",
   "metadata": {},
   "outputs": [],
   "source": [
    "class Account:\n",
    "    def __init__(self):\n",
    "        self.account_number = input(\"ENter acc number : \")\n",
    "        self.customer_name = input(\"ENter customer name : \")\n",
    "        self.balance = float(input(\"ENter balance : \"))\n",
    "        \n",
    "        \n",
    "    def deposit(self, amount):\n",
    "        self.balance += amount\n",
    "\n",
    "    def withdraw(self, amount):\n",
    "        if self.balance >= amount:\n",
    "            self.balance -= amount\n",
    "        else:\n",
    "            print(\"Insufficient balance!\")\n",
    "\n",
    "    def get_balance(self):\n",
    "        return self.balance\n",
    "\n",
    "    def display_info(self):\n",
    "        print(f\"Account Number: {self.account_number}\")\n",
    "        print(f\"Customer Name: {self.customer_name}\")\n",
    "        print(f\"Balance: {self.balance}\")"
   ]
  },
  {
   "cell_type": "code",
   "execution_count": 56,
   "id": "ce108acb",
   "metadata": {},
   "outputs": [
    {
     "name": "stdout",
     "output_type": "stream",
     "text": [
      "ENter acc number : 6464646\n",
      "ENter customer name : 6464646\n",
      "ENter balance : 6464646\n"
     ]
    }
   ],
   "source": [
    "obj1 = Account()"
   ]
  },
  {
   "cell_type": "code",
   "execution_count": 57,
   "id": "9f2c3099",
   "metadata": {},
   "outputs": [
    {
     "ename": "TypeError",
     "evalue": "__init__() takes 1 positional argument but 4 were given",
     "output_type": "error",
     "traceback": [
      "\u001b[1;31m---------------------------------------------------------------------------\u001b[0m",
      "\u001b[1;31mTypeError\u001b[0m                                 Traceback (most recent call last)",
      "\u001b[1;32m~\\AppData\\Local\\Temp\\ipykernel_14772\\2633883316.py\u001b[0m in \u001b[0;36m<module>\u001b[1;34m\u001b[0m\n\u001b[1;32m----> 1\u001b[1;33m \u001b[0mobj2\u001b[0m \u001b[1;33m=\u001b[0m \u001b[0mAccount\u001b[0m\u001b[1;33m(\u001b[0m\u001b[1;34m'A014'\u001b[0m\u001b[1;33m,\u001b[0m\u001b[1;34m'abc'\u001b[0m\u001b[1;33m,\u001b[0m\u001b[1;36m6464646\u001b[0m\u001b[1;33m)\u001b[0m\u001b[1;33m\u001b[0m\u001b[1;33m\u001b[0m\u001b[0m\n\u001b[0m",
      "\u001b[1;31mTypeError\u001b[0m: __init__() takes 1 positional argument but 4 were given"
     ]
    }
   ],
   "source": [
    "obj2 = Account('A014','abc',6464646)"
   ]
  },
  {
   "cell_type": "code",
   "execution_count": 58,
   "id": "a575e132",
   "metadata": {},
   "outputs": [
    {
     "data": {
      "text/plain": [
       "'6464646'"
      ]
     },
     "execution_count": 58,
     "metadata": {},
     "output_type": "execute_result"
    }
   ],
   "source": [
    "obj1.customer_name"
   ]
  },
  {
   "cell_type": "code",
   "execution_count": 59,
   "id": "68b72603",
   "metadata": {},
   "outputs": [],
   "source": [
    "obj1.deposit(5000)"
   ]
  },
  {
   "cell_type": "code",
   "execution_count": 60,
   "id": "f93ffcac",
   "metadata": {},
   "outputs": [
    {
     "data": {
      "text/plain": [
       "6469646.0"
      ]
     },
     "execution_count": 60,
     "metadata": {},
     "output_type": "execute_result"
    }
   ],
   "source": [
    "obj1.get_balance()"
   ]
  },
  {
   "cell_type": "code",
   "execution_count": 61,
   "id": "76033c69",
   "metadata": {},
   "outputs": [],
   "source": [
    "obj1.withdraw(50000)"
   ]
  },
  {
   "cell_type": "code",
   "execution_count": 62,
   "id": "57e3a7e1",
   "metadata": {},
   "outputs": [
    {
     "data": {
      "text/plain": [
       "6419646.0"
      ]
     },
     "execution_count": 62,
     "metadata": {},
     "output_type": "execute_result"
    }
   ],
   "source": [
    "obj1.get_balance()"
   ]
  },
  {
   "cell_type": "code",
   "execution_count": 63,
   "id": "ebe72531",
   "metadata": {},
   "outputs": [
    {
     "name": "stdout",
     "output_type": "stream",
     "text": [
      "Account Number: 6464646\n",
      "Customer Name: 6464646\n",
      "Balance: 6419646.0\n"
     ]
    }
   ],
   "source": [
    "obj1.display_info()"
   ]
  },
  {
   "cell_type": "code",
   "execution_count": 64,
   "id": "2158974d",
   "metadata": {},
   "outputs": [
    {
     "ename": "NameError",
     "evalue": "name 'obj2' is not defined",
     "output_type": "error",
     "traceback": [
      "\u001b[1;31m---------------------------------------------------------------------------\u001b[0m",
      "\u001b[1;31mNameError\u001b[0m                                 Traceback (most recent call last)",
      "\u001b[1;32m~\\AppData\\Local\\Temp\\ipykernel_14772\\3712730695.py\u001b[0m in \u001b[0;36m<module>\u001b[1;34m\u001b[0m\n\u001b[1;32m----> 1\u001b[1;33m \u001b[0mobj2\u001b[0m\u001b[1;33m.\u001b[0m\u001b[0mdisplay_info\u001b[0m\u001b[1;33m(\u001b[0m\u001b[1;33m)\u001b[0m\u001b[1;33m\u001b[0m\u001b[1;33m\u001b[0m\u001b[0m\n\u001b[0m",
      "\u001b[1;31mNameError\u001b[0m: name 'obj2' is not defined"
     ]
    }
   ],
   "source": [
    "obj2.display_info()"
   ]
  },
  {
   "cell_type": "code",
   "execution_count": 65,
   "id": "ec16b0d1",
   "metadata": {},
   "outputs": [
    {
     "ename": "NameError",
     "evalue": "name 'obj2' is not defined",
     "output_type": "error",
     "traceback": [
      "\u001b[1;31m---------------------------------------------------------------------------\u001b[0m",
      "\u001b[1;31mNameError\u001b[0m                                 Traceback (most recent call last)",
      "\u001b[1;32m~\\AppData\\Local\\Temp\\ipykernel_14772\\3725419871.py\u001b[0m in \u001b[0;36m<module>\u001b[1;34m\u001b[0m\n\u001b[1;32m----> 1\u001b[1;33m \u001b[0mobj2\u001b[0m\u001b[1;33m.\u001b[0m\u001b[0mwithdraw\u001b[0m\u001b[1;33m(\u001b[0m\u001b[1;36m56646464646\u001b[0m\u001b[1;33m)\u001b[0m\u001b[1;33m\u001b[0m\u001b[1;33m\u001b[0m\u001b[0m\n\u001b[0m",
      "\u001b[1;31mNameError\u001b[0m: name 'obj2' is not defined"
     ]
    }
   ],
   "source": [
    "obj2.withdraw(56646464646)"
   ]
  },
  {
   "cell_type": "code",
   "execution_count": 66,
   "id": "af4586ff",
   "metadata": {},
   "outputs": [
    {
     "ename": "NameError",
     "evalue": "name 'obj2' is not defined",
     "output_type": "error",
     "traceback": [
      "\u001b[1;31m---------------------------------------------------------------------------\u001b[0m",
      "\u001b[1;31mNameError\u001b[0m                                 Traceback (most recent call last)",
      "\u001b[1;32m~\\AppData\\Local\\Temp\\ipykernel_14772\\1324947104.py\u001b[0m in \u001b[0;36m<module>\u001b[1;34m\u001b[0m\n\u001b[1;32m----> 1\u001b[1;33m \u001b[0mobj2\u001b[0m\u001b[1;33m.\u001b[0m\u001b[0mdeposit\u001b[0m\u001b[1;33m(\u001b[0m\u001b[1;36m50000\u001b[0m\u001b[1;33m)\u001b[0m\u001b[1;33m\u001b[0m\u001b[1;33m\u001b[0m\u001b[0m\n\u001b[0m",
      "\u001b[1;31mNameError\u001b[0m: name 'obj2' is not defined"
     ]
    }
   ],
   "source": [
    "obj2.deposit(50000)"
   ]
  },
  {
   "cell_type": "code",
   "execution_count": 67,
   "id": "618b4d6c",
   "metadata": {},
   "outputs": [
    {
     "ename": "NameError",
     "evalue": "name 'obj2' is not defined",
     "output_type": "error",
     "traceback": [
      "\u001b[1;31m---------------------------------------------------------------------------\u001b[0m",
      "\u001b[1;31mNameError\u001b[0m                                 Traceback (most recent call last)",
      "\u001b[1;32m~\\AppData\\Local\\Temp\\ipykernel_14772\\3712730695.py\u001b[0m in \u001b[0;36m<module>\u001b[1;34m\u001b[0m\n\u001b[1;32m----> 1\u001b[1;33m \u001b[0mobj2\u001b[0m\u001b[1;33m.\u001b[0m\u001b[0mdisplay_info\u001b[0m\u001b[1;33m(\u001b[0m\u001b[1;33m)\u001b[0m\u001b[1;33m\u001b[0m\u001b[1;33m\u001b[0m\u001b[0m\n\u001b[0m",
      "\u001b[1;31mNameError\u001b[0m: name 'obj2' is not defined"
     ]
    }
   ],
   "source": [
    "obj2.display_info()"
   ]
  },
  {
   "cell_type": "code",
   "execution_count": 68,
   "id": "eb6651f8",
   "metadata": {},
   "outputs": [
    {
     "ename": "TypeError",
     "evalue": "__init__() takes 1 positional argument but 4 were given",
     "output_type": "error",
     "traceback": [
      "\u001b[1;31m---------------------------------------------------------------------------\u001b[0m",
      "\u001b[1;31mTypeError\u001b[0m                                 Traceback (most recent call last)",
      "\u001b[1;32m~\\AppData\\Local\\Temp\\ipykernel_14772\\1163457202.py\u001b[0m in \u001b[0;36m<module>\u001b[1;34m\u001b[0m\n\u001b[0;32m      1\u001b[0m \u001b[1;31m# Create a new account\u001b[0m\u001b[1;33m\u001b[0m\u001b[1;33m\u001b[0m\u001b[0m\n\u001b[1;32m----> 2\u001b[1;33m \u001b[0maccount1\u001b[0m \u001b[1;33m=\u001b[0m \u001b[0mAccount\u001b[0m\u001b[1;33m(\u001b[0m\u001b[1;34m\"A001\"\u001b[0m\u001b[1;33m,\u001b[0m \u001b[1;34m\"Alice\"\u001b[0m\u001b[1;33m,\u001b[0m \u001b[1;36m1000\u001b[0m\u001b[1;33m)\u001b[0m\u001b[1;33m\u001b[0m\u001b[1;33m\u001b[0m\u001b[0m\n\u001b[0m\u001b[0;32m      3\u001b[0m \u001b[1;33m\u001b[0m\u001b[0m\n\u001b[0;32m      4\u001b[0m \u001b[1;31m# Deposit and withdraw from the account\u001b[0m\u001b[1;33m\u001b[0m\u001b[1;33m\u001b[0m\u001b[0m\n\u001b[0;32m      5\u001b[0m \u001b[0maccount1\u001b[0m\u001b[1;33m.\u001b[0m\u001b[0mdeposit\u001b[0m\u001b[1;33m(\u001b[0m\u001b[1;36m500\u001b[0m\u001b[1;33m)\u001b[0m\u001b[1;33m\u001b[0m\u001b[1;33m\u001b[0m\u001b[0m\n",
      "\u001b[1;31mTypeError\u001b[0m: __init__() takes 1 positional argument but 4 were given"
     ]
    }
   ],
   "source": [
    "# Create a new account\n",
    "account1 = Account(\"A001\", \"Alice\", 1000)\n",
    "\n",
    "# Deposit and withdraw from the account\n",
    "account1.deposit(500)\n",
    "account1.withdraw(200)\n",
    "\n",
    "# Display the account information\n",
    "account1.display_info()"
   ]
  },
  {
   "cell_type": "markdown",
   "id": "ee4b5b4b",
   "metadata": {},
   "source": [
    "---"
   ]
  },
  {
   "cell_type": "code",
   "execution_count": null,
   "id": "64fd392e",
   "metadata": {},
   "outputs": [],
   "source": []
  },
  {
   "cell_type": "code",
   "execution_count": null,
   "id": "be303854",
   "metadata": {},
   "outputs": [],
   "source": [
    "id(c1)"
   ]
  },
  {
   "cell_type": "code",
   "execution_count": 69,
   "id": "fff1029f",
   "metadata": {},
   "outputs": [],
   "source": [
    "class Atm:\n",
    "    def __init__(self):\n",
    "        self.pin = ''\n",
    "        self.balance = 0\n",
    "        self.menu()\n",
    "\n",
    "\n",
    "    def menu(self):\n",
    "        user_input = input(\"\"\"\n",
    "        Hi how can I help you?\n",
    "        1. Press 1 to create pin\n",
    "        2. Press 2 to change pin\n",
    "        3. Press 3 to check balance\n",
    "        4. Press 4 to withdraw\n",
    "        5. Anything else to exit\n",
    "        \"\"\")\n",
    "\n",
    "        if user_input == '1':\n",
    "            self.create_pin()  \n",
    "            self.menu()\n",
    "\n",
    "        elif user_input == '2':\n",
    "            self.change_pin()\n",
    "            self.menu()\n",
    "\n",
    "        elif user_input =='3':\n",
    "            self.check_balance()\n",
    "            self.menu()\n",
    "\n",
    "        elif user_input == '4':\n",
    "            self.withdraw()\n",
    "            self.menu()\n",
    "\n",
    "        else:\n",
    "            return 0\n",
    "\n",
    "    def create_pin(self):\n",
    "        cpin = input(\"Enter new pin :\")\n",
    "        self.pin += cpin\n",
    "\n",
    "        cbalance = int(input(\"ENter the amount you have : \"))\n",
    "        self.balance += cbalance\n",
    "\n",
    "        print(\"Pin Created Successful\")\n",
    "\n",
    "\n",
    "\n",
    "    def change_pin(self):\n",
    "        old_pin = input(\"ENter your current pin : \")\n",
    "\n",
    "        if old_pin == self.pin:\n",
    "            npin = input(\"ENTER YOUR NEW PIN.\")\n",
    "            self.pin = npin\n",
    "        else:\n",
    "            print(\"PIN GALAT HAI , sahi pin dalloo.\")\n",
    "\n",
    "    def check_balance(self):\n",
    "        old_pin = input('Enter current pin: ')\n",
    "\n",
    "        if old_pin == self.pin:\n",
    "            print(f\"YOur balance is {self.balance}\")\n",
    "\n",
    "        else :\n",
    "            print(\"CHor chor\")\n",
    "\n",
    "\n",
    "    def withdraw(self):\n",
    "        old_pin = input('Enter current pin: ')\n",
    "\n",
    "        if old_pin == self.pin:\n",
    "            amount_to_withdraw = int(input(\"Enter the amount : \"))\n",
    "\n",
    "            if amount_to_withdraw < self.balance :\n",
    "                self.balance -= amount_to_withdraw\n",
    "                print(f\"Amount withdrawn successfully, balance is {self.balance}\")\n",
    "\n",
    "            else :\n",
    "                print(\"Paise nahi hai tere pass itne\")\n",
    "\n",
    "        else :\n",
    "            print(\"CHor chor\")\n"
   ]
  },
  {
   "cell_type": "code",
   "execution_count": 70,
   "id": "3cc9ab0d",
   "metadata": {
    "scrolled": true
   },
   "outputs": [
    {
     "name": "stdout",
     "output_type": "stream",
     "text": [
      "\n",
      "        Hi how can I help you?\n",
      "        1. Press 1 to create pin\n",
      "        2. Press 2 to change pin\n",
      "        3. Press 3 to check balance\n",
      "        4. Press 4 to withdraw\n",
      "        5. Anything else to exit\n",
      "        2\n",
      "ENter your current pin : 56265310652\n",
      "PIN GALAT HAI , sahi pin dalloo.\n",
      "\n",
      "        Hi how can I help you?\n",
      "        1. Press 1 to create pin\n",
      "        2. Press 2 to change pin\n",
      "        3. Press 3 to check balance\n",
      "        4. Press 4 to withdraw\n",
      "        5. Anything else to exit\n",
      "        65321056321065\n"
     ]
    }
   ],
   "source": [
    "saurabh  = Atm()"
   ]
  },
  {
   "cell_type": "code",
   "execution_count": 71,
   "id": "9b0cbbf6",
   "metadata": {},
   "outputs": [
    {
     "name": "stdout",
     "output_type": "stream",
     "text": [
      "\n",
      "        Hi how can I help you?\n",
      "        1. Press 1 to create pin\n",
      "        2. Press 2 to change pin\n",
      "        3. Press 3 to check balance\n",
      "        4. Press 4 to withdraw\n",
      "        5. Anything else to exit\n",
      "        5632\n"
     ]
    },
    {
     "data": {
      "text/plain": [
       "0"
      ]
     },
     "execution_count": 71,
     "metadata": {},
     "output_type": "execute_result"
    }
   ],
   "source": [
    "saurabh.menu()"
   ]
  },
  {
   "cell_type": "code",
   "execution_count": 72,
   "id": "7495bb8a",
   "metadata": {},
   "outputs": [
    {
     "ename": "NameError",
     "evalue": "name 'atm1' is not defined",
     "output_type": "error",
     "traceback": [
      "\u001b[1;31m---------------------------------------------------------------------------\u001b[0m",
      "\u001b[1;31mNameError\u001b[0m                                 Traceback (most recent call last)",
      "\u001b[1;32m~\\AppData\\Local\\Temp\\ipykernel_14772\\2147703447.py\u001b[0m in \u001b[0;36m<module>\u001b[1;34m\u001b[0m\n\u001b[1;32m----> 1\u001b[1;33m \u001b[0matm1\u001b[0m\u001b[1;33m.\u001b[0m\u001b[0mmenu\u001b[0m\u001b[1;33m(\u001b[0m\u001b[1;33m)\u001b[0m\u001b[1;33m\u001b[0m\u001b[1;33m\u001b[0m\u001b[0m\n\u001b[0m",
      "\u001b[1;31mNameError\u001b[0m: name 'atm1' is not defined"
     ]
    }
   ],
   "source": [
    "atm1.menu()"
   ]
  },
  {
   "cell_type": "code",
   "execution_count": null,
   "id": "27be7b88",
   "metadata": {},
   "outputs": [],
   "source": [
    "atm1.withdraw()"
   ]
  },
  {
   "cell_type": "code",
   "execution_count": null,
   "id": "60158bb8",
   "metadata": {},
   "outputs": [],
   "source": [
    "atm1.balance = 0"
   ]
  },
  {
   "cell_type": "code",
   "execution_count": null,
   "id": "66cdc491",
   "metadata": {},
   "outputs": [],
   "source": [
    "atm1.menu()"
   ]
  },
  {
   "cell_type": "code",
   "execution_count": null,
   "id": "7be655d9",
   "metadata": {},
   "outputs": [],
   "source": [
    "ankush = Atm()"
   ]
  },
  {
   "cell_type": "code",
   "execution_count": null,
   "id": "433d95a0",
   "metadata": {},
   "outputs": [],
   "source": [
    "ankush.menu()"
   ]
  },
  {
   "cell_type": "code",
   "execution_count": null,
   "id": "fc9bcb40",
   "metadata": {},
   "outputs": [],
   "source": [
    "bata"
   ]
  },
  {
   "cell_type": "code",
   "execution_count": null,
   "id": "dd7d4cdf",
   "metadata": {},
   "outputs": [],
   "source": [
    "class Atm:\n",
    "    def __init__(self):\n",
    "        print(id(self))\n",
    "        self.pin = ''\n",
    "        self.balance = 0\n",
    "        self.menu()\n",
    "\n",
    "    def menu(self):\n",
    "        user_input = input(\"\"\"\n",
    "        Hi how can I help you?\n",
    "        1. Press 1 to create pin\n",
    "        2. Press 2 to change pin\n",
    "        3. Press 3 to check balance\n",
    "        4. Press 4 to withdraw\n",
    "        5. Anything else to exit\n",
    "        \"\"\")\n",
    "\n",
    "        if user_input == '1':\n",
    "            self.create_pin()\n",
    "        elif user_input == '2':\n",
    "            self.change_pin()\n",
    "        elif user_input == '3':\n",
    "            self.check_balance()\n",
    "        elif user_input == '4':\n",
    "            self.withdraw()\n",
    "        else:\n",
    "            return 0\n",
    "\n",
    "    def create_pin(self):\n",
    "        user_pin = input('Enter your pin: ')\n",
    "        self.pin = user_pin\n",
    "\n",
    "        user_balance = int(input('Enter balance: '))\n",
    "        self.balance = user_balance\n",
    "\n",
    "        print('Pin created successfully!')\n",
    "        self.menu()\n",
    "\n",
    "    def change_pin(self):\n",
    "        old_pin = input('Enter old pin: ')\n",
    "\n",
    "        if old_pin == self.pin:\n",
    "            new_pin = input('Enter new pin: ')\n",
    "            self.pin = new_pin\n",
    "            print('Pin change successful!')\n",
    "            self.menu()\n",
    "        else:\n",
    "            print('Cannot change pin! Incorrect old pin.')\n",
    "            self.menu()\n",
    "\n",
    "    def check_balance(self):\n",
    "        user_pin = input('Enter your pin: ')\n",
    "        if user_pin == self.pin:\n",
    "            print('Your balance is', self.balance)\n",
    "        else:\n",
    "            print('Incorrect pin!')\n",
    "        self.menu()\n",
    "\n",
    "    def withdraw(self):\n",
    "        user_pin = input('Enter your pin: ')\n",
    "        if user_pin == self.pin:\n",
    "            amount = int(input('Enter the amount: '))\n",
    "            if amount <= self.balance:\n",
    "                self.balance -= amount\n",
    "                print('Withdrawal successful. Balance is', self.balance)\n",
    "            else:\n",
    "                print('Insufficient balance!')\n",
    "        else:\n",
    "            print('Incorrect pin!')\n",
    "        self.menu()"
   ]
  },
  {
   "cell_type": "code",
   "execution_count": null,
   "id": "5937d86a",
   "metadata": {},
   "outputs": [],
   "source": [
    "# Create an ATM object and start the banking operations\n",
    "atm = Atm()"
   ]
  },
  {
   "cell_type": "code",
   "execution_count": null,
   "id": "b4f8cfd4",
   "metadata": {},
   "outputs": [],
   "source": []
  },
  {
   "cell_type": "code",
   "execution_count": null,
   "id": "f015c793",
   "metadata": {},
   "outputs": [],
   "source": [
    "atm2 = Atm()"
   ]
  },
  {
   "cell_type": "code",
   "execution_count": null,
   "id": "13d21d7a",
   "metadata": {},
   "outputs": [],
   "source": [
    "atm2.withdraw()"
   ]
  },
  {
   "cell_type": "code",
   "execution_count": null,
   "id": "d110d936",
   "metadata": {},
   "outputs": [],
   "source": [
    "a = 'suraj'\n",
    "print(type(a))"
   ]
  },
  {
   "cell_type": "code",
   "execution_count": null,
   "id": "40115f2e",
   "metadata": {},
   "outputs": [],
   "source": [
    "l = list([1,2,3,4,5])\n",
    "l2 = [4,5,6,7]"
   ]
  },
  {
   "cell_type": "code",
   "execution_count": null,
   "id": "f32b9dbf",
   "metadata": {},
   "outputs": [],
   "source": [
    "n = 5\n",
    "m = 6"
   ]
  },
  {
   "cell_type": "code",
   "execution_count": null,
   "id": "8d62a7b6",
   "metadata": {},
   "outputs": [],
   "source": [
    "3/n # n can take any value \n",
    "3/ m # m can take values except 0 "
   ]
  },
  {
   "cell_type": "code",
   "execution_count": null,
   "id": "6f2ded28",
   "metadata": {},
   "outputs": [],
   "source": [
    "n + m\n",
    "n - m\n",
    "n * m\n",
    "n "
   ]
  },
  {
   "cell_type": "code",
   "execution_count": null,
   "id": "e28c784e",
   "metadata": {},
   "outputs": [],
   "source": [
    "2/3"
   ]
  },
  {
   "cell_type": "code",
   "execution_count": null,
   "id": "9a715547",
   "metadata": {},
   "outputs": [],
   "source": [
    "class Fraction:\n",
    "    def __init__(self, x,y): # magic methods which gets automatically called when we create an object of our class.\n",
    "        self.num = x\n",
    "        self.den = y\n",
    "    \n",
    "    def __str__(self):\n",
    "        return f\"{self.num}/{self.den}\"\n",
    "    \n",
    "    def __add__(self, other):\n",
    "        new_num = self.num * other.den + other.num * self.den\n",
    "        new_den = self.den * other.den\n",
    "        return f\"{new_num}/{new_den}\"\n",
    "    \n",
    "    def __sub__(self, other):\n",
    "        new_num = self.num * other.den - other.num * self.num\n",
    "        new_den = self.den * other.den\n",
    "        return f\"{new_num}/{new_den}\"\n",
    "    \n",
    "    def __mul__(self, other):\n",
    "        new_num = self.num * other.num\n",
    "        new_den = self.den * other.den\n",
    "        return f\"{new_num}/{new_den}\"\n",
    "\n",
    "    def __truediv__(self, other):\n",
    "        new_num = self.num * other.den\n",
    "        new_den = self.den * other.num\n",
    "        return f\"{new_num}/{new_den}\"\n",
    "    \n",
    "    def convert_to_decimal(self):\n",
    "        return self.num / self.den"
   ]
  },
  {
   "cell_type": "code",
   "execution_count": null,
   "id": "55a5d5fb",
   "metadata": {},
   "outputs": [],
   "source": [
    "obj1 = Fraction(2,3)\n",
    "print(obj1)"
   ]
  },
  {
   "cell_type": "code",
   "execution_count": null,
   "id": "e083155e",
   "metadata": {},
   "outputs": [],
   "source": [
    "obj2 = Fraction(3,2)\n",
    "print(obj2)"
   ]
  },
  {
   "cell_type": "code",
   "execution_count": null,
   "id": "06ec4b82",
   "metadata": {},
   "outputs": [],
   "source": [
    "obj3 = Fraction(5,7)\n",
    "print(obj3)"
   ]
  },
  {
   "cell_type": "code",
   "execution_count": null,
   "id": "4528dd45",
   "metadata": {},
   "outputs": [],
   "source": [
    "obj1+ obj2"
   ]
  },
  {
   "cell_type": "code",
   "execution_count": null,
   "id": "47ff77b4",
   "metadata": {},
   "outputs": [],
   "source": [
    "print(obj1+obj2)\n",
    "print(obj1-obj2)\n",
    "print(obj1*obj2)\n",
    "print(obj1/obj2)"
   ]
  },
  {
   "cell_type": "code",
   "execution_count": null,
   "id": "d24cfc2a",
   "metadata": {},
   "outputs": [],
   "source": [
    "obj1.convert_to_decimal()"
   ]
  },
  {
   "cell_type": "code",
   "execution_count": null,
   "id": "63cbd715",
   "metadata": {},
   "outputs": [],
   "source": [
    "print(obj1)"
   ]
  },
  {
   "cell_type": "markdown",
   "id": "47b602ed",
   "metadata": {},
   "source": [
    "### Q. Write OOP classes to handle the following scenarios:\n",
    "\n",
    "- A user can create and view 2D coordinates\n",
    "- A user can find out the distance between 2 coordinates\n",
    "- A user can find find the distance of a coordinate from origin\n",
    "- A user can check if a point lies on a given line\n",
    "- A user can find the distance between a given 2D point and a given line\n"
   ]
  },
  {
   "cell_type": "code",
   "execution_count": 1,
   "id": "9c1d3881",
   "metadata": {},
   "outputs": [],
   "source": [
    "class Point:\n",
    "    def __init__(self,x,y):\n",
    "        self.x_cod = x\n",
    "        self.y_cod = y\n",
    "    \n",
    "    def __str__(self):\n",
    "        return f\"<{self.x_cod}, {self.y_cod}>\"\n",
    "    \n",
    "    def euclidean_distance(self,other):\n",
    "        return ((self.x_cod-other.x_cod)**2 + (self.y_cod-other.y_cod)**2)**0.5\n",
    "    \n",
    "    def distance_from_origin(self):\n",
    "#         return (self.x_cod**2 + self.y_cod**2)**0.5\n",
    "        return self.euclidean_distance(Point(0,0))\n",
    "\n",
    "\n",
    "class Line:\n",
    "    def __init__(self, A,B,C):\n",
    "        self.A = A\n",
    "        self.B = B\n",
    "        self.C = C\n",
    "        \n",
    "    def __str__(self):\n",
    "        return f\"{self.A}x + {self.B}y + {self.C} = 0\"\n",
    "    \n",
    "    def point_on_line(line,point):\n",
    "        if line.A*point.x_cod + line.B*point.y_cod + line.C == 0:\n",
    "            return \"Lies on Line.\"\n",
    "        else:\n",
    "            return \"Does not lie on Line.\"\n",
    "        \n",
    "    def shortest_distance_l_TO_p(line,point):\n",
    "        return abs(line.A*point.x_cod + line.B*point.y_cod + line.C)/(line.A**2 + line.B**2)**0.5"
   ]
  },
  {
   "cell_type": "code",
   "execution_count": 2,
   "id": "d84d554e",
   "metadata": {},
   "outputs": [
    {
     "name": "stdout",
     "output_type": "stream",
     "text": [
      "<0, 0>\n"
     ]
    }
   ],
   "source": [
    "p1 = Point(0,0)\n",
    "print(p1)"
   ]
  },
  {
   "cell_type": "code",
   "execution_count": 3,
   "id": "fbc83cab",
   "metadata": {},
   "outputs": [
    {
     "data": {
      "text/plain": [
       "2.23606797749979"
      ]
     },
     "execution_count": 3,
     "metadata": {},
     "output_type": "execute_result"
    }
   ],
   "source": [
    "p1.euclidean_distance(Point(2,1))"
   ]
  },
  {
   "cell_type": "code",
   "execution_count": 4,
   "id": "d404ca4c",
   "metadata": {},
   "outputs": [
    {
     "data": {
      "text/plain": [
       "4.242640687119285"
      ]
     },
     "execution_count": 4,
     "metadata": {},
     "output_type": "execute_result"
    }
   ],
   "source": [
    "p2 = Point(3,3)\n",
    "p2.distance_from_origin()"
   ]
  },
  {
   "cell_type": "code",
   "execution_count": null,
   "id": "a1ca231f",
   "metadata": {},
   "outputs": [],
   "source": [
    "l1 = Line(2,7,1)\n",
    "print(l1)"
   ]
  },
  {
   "cell_type": "code",
   "execution_count": null,
   "id": "c34b1f58",
   "metadata": {},
   "outputs": [],
   "source": [
    "l1.point_on_line(Point(-4,7))"
   ]
  },
  {
   "cell_type": "code",
   "execution_count": null,
   "id": "5ab0956c",
   "metadata": {},
   "outputs": [],
   "source": [
    "l1.shortest_distance_l_TO_p(p2)"
   ]
  },
  {
   "cell_type": "code",
   "execution_count": null,
   "id": "a694cb45",
   "metadata": {},
   "outputs": [],
   "source": [
    "l1 = Line(1,1,-2)\n",
    "p1 = Point(1,1)\n",
    "\n",
    "print(l1)\n",
    "print(p1)\n",
    "\n",
    "l1.shortest_distance_l_TO_p(p1)"
   ]
  },
  {
   "cell_type": "markdown",
   "id": "8559c9bf",
   "metadata": {},
   "source": [
    "---\n",
    "## Encapsulation:\n",
    "- Encapsulation is the concept of bundling data (attributes) and methods (functions) that operate on that data within a class. \n",
    "- It allows the class to control access to its data, ensuring data integrity and security."
   ]
  },
  {
   "cell_type": "code",
   "execution_count": 5,
   "id": "322f6528",
   "metadata": {},
   "outputs": [],
   "source": [
    "class Car:\n",
    "    manafacturer = \"Ankit\"     # CLASS/STATIC ATTRIBUTE\n",
    "    \n",
    "    def __init__(self,model, color, fuel):\n",
    "        self.color = color\n",
    "        self.model = model\n",
    "        self.fuel = fuel\n",
    "        \n",
    "    \n",
    "    def drive(self):                   # INSTANCE/OBJECT METHOD\n",
    "        print(f\"{self.model} started....\")\n",
    "      \n",
    "    @staticmethod                     # STATIC/CLASS METHOD\n",
    "    def calculate_milage():\n",
    "        print(f\"Milage is 50 KM/HR. \")\n",
    " \n",
    "        "
   ]
  },
  {
   "cell_type": "code",
   "execution_count": 6,
   "id": "f99df183",
   "metadata": {},
   "outputs": [],
   "source": [
    "car1 = Car('sedan','red','diesel')"
   ]
  },
  {
   "cell_type": "code",
   "execution_count": 7,
   "id": "a50f0226",
   "metadata": {},
   "outputs": [],
   "source": [
    "car2 = Car('suv','black','petrol')"
   ]
  },
  {
   "cell_type": "code",
   "execution_count": 8,
   "id": "95c9ec80",
   "metadata": {},
   "outputs": [
    {
     "name": "stdout",
     "output_type": "stream",
     "text": [
      "Milage is 50 KM/HR. \n"
     ]
    }
   ],
   "source": [
    "car1.calculate_milage()"
   ]
  },
  {
   "cell_type": "code",
   "execution_count": 9,
   "id": "dbf5ae10",
   "metadata": {},
   "outputs": [
    {
     "name": "stdout",
     "output_type": "stream",
     "text": [
      "Milage is 50 KM/HR. \n"
     ]
    }
   ],
   "source": [
    "car2.calculate_milage()"
   ]
  },
  {
   "cell_type": "code",
   "execution_count": 78,
   "id": "47b7d143",
   "metadata": {},
   "outputs": [
    {
     "name": "stdout",
     "output_type": "stream",
     "text": [
      "suv started....\n"
     ]
    }
   ],
   "source": [
    "car2.drive()"
   ]
  },
  {
   "cell_type": "code",
   "execution_count": 79,
   "id": "7928d676",
   "metadata": {},
   "outputs": [
    {
     "name": "stdout",
     "output_type": "stream",
     "text": [
      "sedan started....\n"
     ]
    }
   ],
   "source": [
    "car1.drive()"
   ]
  },
  {
   "cell_type": "code",
   "execution_count": 80,
   "id": "ef02533e",
   "metadata": {},
   "outputs": [
    {
     "data": {
      "text/plain": [
       "'Ankit'"
      ]
     },
     "execution_count": 80,
     "metadata": {},
     "output_type": "execute_result"
    }
   ],
   "source": [
    "car1.manafacturer"
   ]
  },
  {
   "cell_type": "code",
   "execution_count": 81,
   "id": "6e353fee",
   "metadata": {},
   "outputs": [
    {
     "data": {
      "text/plain": [
       "'Ankit'"
      ]
     },
     "execution_count": 81,
     "metadata": {},
     "output_type": "execute_result"
    }
   ],
   "source": [
    "car2.manafacturer"
   ]
  },
  {
   "cell_type": "code",
   "execution_count": 82,
   "id": "5563ad5d",
   "metadata": {},
   "outputs": [
    {
     "data": {
      "text/plain": [
       "'petrol'"
      ]
     },
     "execution_count": 82,
     "metadata": {},
     "output_type": "execute_result"
    }
   ],
   "source": [
    "car2.fuel"
   ]
  },
  {
   "cell_type": "code",
   "execution_count": 83,
   "id": "b4aabf3e",
   "metadata": {},
   "outputs": [
    {
     "data": {
      "text/plain": [
       "'diesel'"
      ]
     },
     "execution_count": 83,
     "metadata": {},
     "output_type": "execute_result"
    }
   ],
   "source": [
    "car1.fuel"
   ]
  },
  {
   "cell_type": "code",
   "execution_count": null,
   "id": "315eb7cb",
   "metadata": {},
   "outputs": [],
   "source": []
  },
  {
   "cell_type": "code",
   "execution_count": null,
   "id": "6b518965",
   "metadata": {},
   "outputs": [],
   "source": []
  },
  {
   "cell_type": "code",
   "execution_count": 84,
   "id": "12c53c10",
   "metadata": {},
   "outputs": [
    {
     "data": {
      "text/plain": [
       "True"
      ]
     },
     "execution_count": 84,
     "metadata": {},
     "output_type": "execute_result"
    }
   ],
   "source": [
    "type(4) == int"
   ]
  },
  {
   "cell_type": "code",
   "execution_count": 10,
   "id": "60dacfcb",
   "metadata": {},
   "outputs": [],
   "source": [
    "class Atm:\n",
    "    def __init__(self,pin, balance):\n",
    "        self.pin = pin\n",
    "        self.balance = balance\n",
    "\n",
    "    def change_pin(self):\n",
    "        old_pin = input(\"ENter your current pin : \")\n",
    "\n",
    "        if old_pin == self.pin:\n",
    "            npin = input(\"ENTER YOUR NEW PIN.\")\n",
    "            self.pin = npin\n",
    "        else:\n",
    "            print(\"PIN GALAT HAI , sahi pin dalloo.\")\n",
    "\n",
    "    def check_balance(self):\n",
    "        old_pin = input('Enter current pin: ')\n",
    "\n",
    "        if old_pin == self.pin:\n",
    "            print(f\"YOur balance is {self.balance}\")\n",
    "\n",
    "        else :\n",
    "            print(\"CHor chor\")\n",
    "\n",
    "\n",
    "    def withdraw(self,pin,amount_to_withdraw):\n",
    "            if amount_to_withdraw < self.balance :\n",
    "                self.balance -= amount_to_withdraw\n",
    "                print(f\"Amount withdrawn successfully, balance is {self.balance}\")\n",
    "\n",
    "            else :\n",
    "                print(\"Paise nahi hai tere pass itne\")\n"
   ]
  },
  {
   "cell_type": "code",
   "execution_count": 11,
   "id": "e9be12a1",
   "metadata": {},
   "outputs": [],
   "source": [
    "user1 = Atm('1111',50000)"
   ]
  },
  {
   "cell_type": "code",
   "execution_count": 12,
   "id": "2561bf1c",
   "metadata": {},
   "outputs": [],
   "source": [
    "user1.balance = 'something'"
   ]
  },
  {
   "cell_type": "code",
   "execution_count": 13,
   "id": "bbb69451",
   "metadata": {},
   "outputs": [],
   "source": [
    "user1.pin = '8868'"
   ]
  },
  {
   "cell_type": "code",
   "execution_count": 16,
   "id": "e3e35a64",
   "metadata": {},
   "outputs": [],
   "source": [
    "user1.balance =500"
   ]
  },
  {
   "cell_type": "code",
   "execution_count": 17,
   "id": "416ecb95",
   "metadata": {},
   "outputs": [
    {
     "data": {
      "text/plain": [
       "500"
      ]
     },
     "execution_count": 17,
     "metadata": {},
     "output_type": "execute_result"
    }
   ],
   "source": [
    "user1.balance"
   ]
  },
  {
   "cell_type": "code",
   "execution_count": 18,
   "id": "4a795247",
   "metadata": {},
   "outputs": [
    {
     "name": "stdout",
     "output_type": "stream",
     "text": [
      "Paise nahi hai tere pass itne\n"
     ]
    }
   ],
   "source": [
    "user1.withdraw('1111',500)"
   ]
  },
  {
   "cell_type": "code",
   "execution_count": 20,
   "id": "a3eba692",
   "metadata": {},
   "outputs": [
    {
     "data": {
      "text/plain": [
       "500"
      ]
     },
     "execution_count": 20,
     "metadata": {},
     "output_type": "execute_result"
    }
   ],
   "source": [
    "user1.balance"
   ]
  },
  {
   "cell_type": "code",
   "execution_count": 21,
   "id": "7ebd54a5",
   "metadata": {},
   "outputs": [],
   "source": [
    "user1._random = 55555"
   ]
  },
  {
   "cell_type": "code",
   "execution_count": 22,
   "id": "e8c2bda9",
   "metadata": {},
   "outputs": [
    {
     "data": {
      "text/plain": [
       "55555"
      ]
     },
     "execution_count": 22,
     "metadata": {},
     "output_type": "execute_result"
    }
   ],
   "source": [
    "user1._random"
   ]
  },
  {
   "cell_type": "code",
   "execution_count": 24,
   "id": "11a9debe",
   "metadata": {},
   "outputs": [],
   "source": [
    "class Atm:\n",
    "    def __init__(self,pin, balance):\n",
    "        self.__pin = pin\n",
    "        self.__balance = balance\n",
    "        self._random = 55\n",
    "\n",
    "    def change_pin(self):\n",
    "        old_pin = input(\"ENter your current pin : \")\n",
    "\n",
    "        if old_pin == self.__pin:\n",
    "            npin = input(\"ENTER YOUR NEW PIN.\")\n",
    "            self.__pin = npin\n",
    "        else:\n",
    "            print(\"PIN GALAT HAI , sahi pin dalloo.\")\n",
    "\n",
    "    def check_balance(self):\n",
    "        old_pin = input('Enter current pin: ')\n",
    "\n",
    "        if old_pin == self.__pin:\n",
    "            print(f\"YOur balance is {self.__balance}\")\n",
    "\n",
    "        else :\n",
    "            print(\"CHor chor\")\n",
    "\n",
    "\n",
    "    def withdraw(self,pin,amount_to_withdraw):\n",
    "            if amount_to_withdraw < self.__balance :\n",
    "                self.__balance -= amount_to_withdraw\n",
    "                print(f\"Amount withdrawn successfully, balance is {self.__balance}\")\n",
    "\n",
    "            else :\n",
    "                print(\"Paise nahi hai tere pass itne\")\n"
   ]
  },
  {
   "cell_type": "code",
   "execution_count": 25,
   "id": "63e96a7f",
   "metadata": {},
   "outputs": [],
   "source": [
    "user1 = Atm('111',5000)"
   ]
  },
  {
   "cell_type": "code",
   "execution_count": 26,
   "id": "ca418757",
   "metadata": {},
   "outputs": [
    {
     "ename": "AttributeError",
     "evalue": "'Atm' object has no attribute 'balance'",
     "output_type": "error",
     "traceback": [
      "\u001b[1;31m---------------------------------------------------------------------------\u001b[0m",
      "\u001b[1;31mAttributeError\u001b[0m                            Traceback (most recent call last)",
      "\u001b[1;32m~\\AppData\\Local\\Temp\\ipykernel_15596\\1817430949.py\u001b[0m in \u001b[0;36m<module>\u001b[1;34m\u001b[0m\n\u001b[1;32m----> 1\u001b[1;33m \u001b[0muser1\u001b[0m\u001b[1;33m.\u001b[0m\u001b[0mbalance\u001b[0m\u001b[1;33m\u001b[0m\u001b[1;33m\u001b[0m\u001b[0m\n\u001b[0m",
      "\u001b[1;31mAttributeError\u001b[0m: 'Atm' object has no attribute 'balance'"
     ]
    }
   ],
   "source": [
    "user1.balance"
   ]
  },
  {
   "cell_type": "code",
   "execution_count": 27,
   "id": "ae90578e",
   "metadata": {},
   "outputs": [
    {
     "ename": "AttributeError",
     "evalue": "'Atm' object has no attribute 'pin'",
     "output_type": "error",
     "traceback": [
      "\u001b[1;31m---------------------------------------------------------------------------\u001b[0m",
      "\u001b[1;31mAttributeError\u001b[0m                            Traceback (most recent call last)",
      "\u001b[1;32m~\\AppData\\Local\\Temp\\ipykernel_15596\\2268152891.py\u001b[0m in \u001b[0;36m<module>\u001b[1;34m\u001b[0m\n\u001b[1;32m----> 1\u001b[1;33m \u001b[0muser1\u001b[0m\u001b[1;33m.\u001b[0m\u001b[0mpin\u001b[0m\u001b[1;33m\u001b[0m\u001b[1;33m\u001b[0m\u001b[0m\n\u001b[0m",
      "\u001b[1;31mAttributeError\u001b[0m: 'Atm' object has no attribute 'pin'"
     ]
    }
   ],
   "source": [
    "user1.pin"
   ]
  },
  {
   "cell_type": "code",
   "execution_count": 47,
   "id": "a084ab61",
   "metadata": {},
   "outputs": [],
   "source": [
    "class Atm:\n",
    "    \n",
    "    __count = 0\n",
    "    def __init__(self,pin,balance):\n",
    "        self.__pin = str(pin)  # instance variables\n",
    "        self.__balance = balance\n",
    "        Atm.__count  = Atm.__count +1\n",
    "#         self.menu()\n",
    "\n",
    "    @staticmethod\n",
    "    def get_count():\n",
    "        return Atm.__count\n",
    "    \n",
    "    def get_balance(self):\n",
    "        return f\"YOUR CURRENT balance is {self.__balance}\"\n",
    "\n",
    "    \n",
    "    def set_balance(self,new_balance):\n",
    "        if type(new_balance) == int:\n",
    "            self.__balance = new_balance\n",
    "        \n",
    "    def withdraw(self):\n",
    "        old_pin = input('Enter current pin: ')\n",
    "\n",
    "        if old_pin == self.__pin:\n",
    "            amount_to_withdraw = int(input(\"Enter the amount : \"))\n",
    "\n",
    "            if amount_to_withdraw < self.__balance :\n",
    "                self.__balance -= amount_to_withdraw\n",
    "                print(f\"Amount withdrawn successfully, balance is {self.__balance}\")\n",
    "\n",
    "            else :\n",
    "                print(\"Paise nahi hai tere pass itne\")\n",
    "\n",
    "        else :\n",
    "            print(\"CHor chor\")\n"
   ]
  },
  {
   "cell_type": "code",
   "execution_count": 48,
   "id": "45c073c1",
   "metadata": {},
   "outputs": [],
   "source": [
    "omkar = Atm(111,5000)"
   ]
  },
  {
   "cell_type": "code",
   "execution_count": 49,
   "id": "8fed3172",
   "metadata": {},
   "outputs": [],
   "source": [
    "rajat = Atm(121,6000)"
   ]
  },
  {
   "cell_type": "code",
   "execution_count": 50,
   "id": "9dab07c3",
   "metadata": {},
   "outputs": [],
   "source": [
    "atharva = Atm(111,7777)"
   ]
  },
  {
   "cell_type": "code",
   "execution_count": 51,
   "id": "0de29716",
   "metadata": {},
   "outputs": [
    {
     "data": {
      "text/plain": [
       "3"
      ]
     },
     "execution_count": 51,
     "metadata": {},
     "output_type": "execute_result"
    }
   ],
   "source": [
    "Atm.get_count()"
   ]
  },
  {
   "cell_type": "code",
   "execution_count": 52,
   "id": "8d1630a9",
   "metadata": {},
   "outputs": [],
   "source": [
    "omkar.__balance = 'fja;'"
   ]
  },
  {
   "cell_type": "code",
   "execution_count": 53,
   "id": "affb0b61",
   "metadata": {},
   "outputs": [
    {
     "data": {
      "text/plain": [
       "'fja;'"
      ]
     },
     "execution_count": 53,
     "metadata": {},
     "output_type": "execute_result"
    }
   ],
   "source": [
    "omkar.__balance"
   ]
  },
  {
   "cell_type": "code",
   "execution_count": 54,
   "id": "b4a4a3c2",
   "metadata": {},
   "outputs": [],
   "source": [
    "# omkar._Atm__balance = 'sfjsl'"
   ]
  },
  {
   "cell_type": "code",
   "execution_count": 46,
   "id": "a2790fdc",
   "metadata": {},
   "outputs": [
    {
     "name": "stdout",
     "output_type": "stream",
     "text": [
      "Enter current pin: 12345\n",
      "CHor chor\n"
     ]
    }
   ],
   "source": [
    "omkar.withdraw()"
   ]
  },
  {
   "cell_type": "code",
   "execution_count": null,
   "id": "f25e58c5",
   "metadata": {},
   "outputs": [],
   "source": []
  },
  {
   "cell_type": "code",
   "execution_count": null,
   "id": "0a61295c",
   "metadata": {},
   "outputs": [],
   "source": []
  },
  {
   "cell_type": "code",
   "execution_count": null,
   "id": "7cd78115",
   "metadata": {},
   "outputs": [],
   "source": []
  },
  {
   "cell_type": "code",
   "execution_count": null,
   "id": "4272f431",
   "metadata": {},
   "outputs": [],
   "source": []
  },
  {
   "cell_type": "code",
   "execution_count": null,
   "id": "9420efc1",
   "metadata": {},
   "outputs": [],
   "source": []
  },
  {
   "cell_type": "code",
   "execution_count": null,
   "id": "cdc80470",
   "metadata": {},
   "outputs": [],
   "source": []
  },
  {
   "cell_type": "code",
   "execution_count": 55,
   "id": "21c2e046",
   "metadata": {},
   "outputs": [
    {
     "data": {
      "text/plain": [
       "3"
      ]
     },
     "execution_count": 55,
     "metadata": {},
     "output_type": "execute_result"
    }
   ],
   "source": [
    "rajat.get_count()"
   ]
  },
  {
   "cell_type": "code",
   "execution_count": 56,
   "id": "fabc637a",
   "metadata": {},
   "outputs": [
    {
     "data": {
      "text/plain": [
       "3"
      ]
     },
     "execution_count": 56,
     "metadata": {},
     "output_type": "execute_result"
    }
   ],
   "source": [
    "omkar.get_count()"
   ]
  },
  {
   "cell_type": "code",
   "execution_count": 57,
   "id": "408e7559",
   "metadata": {},
   "outputs": [
    {
     "data": {
      "text/plain": [
       "'YOUR CURRENT balance is 5000'"
      ]
     },
     "execution_count": 57,
     "metadata": {},
     "output_type": "execute_result"
    }
   ],
   "source": [
    "omkar.get_balance()"
   ]
  },
  {
   "cell_type": "code",
   "execution_count": 58,
   "id": "1b5c45c8",
   "metadata": {},
   "outputs": [],
   "source": [
    "omkar.set_balance(8000)"
   ]
  },
  {
   "cell_type": "code",
   "execution_count": 59,
   "id": "718be66c",
   "metadata": {},
   "outputs": [
    {
     "data": {
      "text/plain": [
       "'YOUR CURRENT balance is 8000'"
      ]
     },
     "execution_count": 59,
     "metadata": {},
     "output_type": "execute_result"
    }
   ],
   "source": [
    "omkar.get_balance()"
   ]
  },
  {
   "cell_type": "code",
   "execution_count": 60,
   "id": "5e38eb90",
   "metadata": {},
   "outputs": [],
   "source": [
    "omkar.balance = 'kuch bhi'"
   ]
  },
  {
   "cell_type": "code",
   "execution_count": 61,
   "id": "5e852650",
   "metadata": {},
   "outputs": [
    {
     "data": {
      "text/plain": [
       "'kuch bhi'"
      ]
     },
     "execution_count": 61,
     "metadata": {},
     "output_type": "execute_result"
    }
   ],
   "source": [
    "omkar.balance"
   ]
  },
  {
   "cell_type": "code",
   "execution_count": 62,
   "id": "ecca94f9",
   "metadata": {},
   "outputs": [
    {
     "name": "stdout",
     "output_type": "stream",
     "text": [
      "Enter current pin: 1234\n",
      "CHor chor\n"
     ]
    }
   ],
   "source": [
    "omkar.withdraw()"
   ]
  },
  {
   "cell_type": "code",
   "execution_count": 63,
   "id": "fa3b5b6a",
   "metadata": {},
   "outputs": [
    {
     "data": {
      "text/plain": [
       "'fja;'"
      ]
     },
     "execution_count": 63,
     "metadata": {},
     "output_type": "execute_result"
    }
   ],
   "source": [
    "omkar.__balance"
   ]
  },
  {
   "cell_type": "code",
   "execution_count": 64,
   "id": "f968aeab",
   "metadata": {},
   "outputs": [],
   "source": [
    "class BankAccount:\n",
    "    static_varaible = 0  # static variable\n",
    "    def __init__(self, account_number, balance):\n",
    "        self.account_number = account_number\n",
    "        self.__balance = balance\n",
    "        BankAccount.static_varaible = BankAccount.static_varaible + 1\n",
    "    \n",
    "    @staticmethod      #static method\n",
    "    def get_coount():\n",
    "        return BankAccount.static_varaible\n",
    "        \n",
    "    def deposit(self, amount):\n",
    "        if amount > 0:\n",
    "            self.__balance += amount\n",
    "\n",
    "    def withdraw(self, amount):\n",
    "        if 0 < amount <= self._balance:\n",
    "            self.__balance -= amount\n",
    "\n",
    "    def get_balance(self):\n",
    "        return self.__balance\n",
    "    \n",
    "    def set_balance(self,new_balance):\n",
    "        if type(new_balance) == int:\n",
    "            self.__balance = new_balance\n",
    "        \n"
   ]
  },
  {
   "cell_type": "code",
   "execution_count": 65,
   "id": "d2b27c1e",
   "metadata": {},
   "outputs": [
    {
     "data": {
      "text/plain": [
       "0"
      ]
     },
     "execution_count": 65,
     "metadata": {},
     "output_type": "execute_result"
    }
   ],
   "source": [
    "BankAccount.static_varaible"
   ]
  },
  {
   "cell_type": "code",
   "execution_count": 66,
   "id": "fe45b5c2",
   "metadata": {},
   "outputs": [
    {
     "data": {
      "text/plain": [
       "0"
      ]
     },
     "execution_count": 66,
     "metadata": {},
     "output_type": "execute_result"
    }
   ],
   "source": [
    "BankAccount.get_coount()"
   ]
  },
  {
   "cell_type": "code",
   "execution_count": 67,
   "id": "6e283946",
   "metadata": {},
   "outputs": [],
   "source": [
    "cust1 = BankAccount(1,5000)"
   ]
  },
  {
   "cell_type": "code",
   "execution_count": 68,
   "id": "83b28e7f",
   "metadata": {},
   "outputs": [
    {
     "data": {
      "text/plain": [
       "1"
      ]
     },
     "execution_count": 68,
     "metadata": {},
     "output_type": "execute_result"
    }
   ],
   "source": [
    "cust1.static_varaible"
   ]
  },
  {
   "cell_type": "code",
   "execution_count": 69,
   "id": "5951cdc0",
   "metadata": {},
   "outputs": [
    {
     "data": {
      "text/plain": [
       "1"
      ]
     },
     "execution_count": 69,
     "metadata": {},
     "output_type": "execute_result"
    }
   ],
   "source": [
    "cust1.account_number"
   ]
  },
  {
   "cell_type": "code",
   "execution_count": 70,
   "id": "5c1706c1",
   "metadata": {},
   "outputs": [
    {
     "data": {
      "text/plain": [
       "5000"
      ]
     },
     "execution_count": 70,
     "metadata": {},
     "output_type": "execute_result"
    }
   ],
   "source": [
    "cust1.get_balance()"
   ]
  },
  {
   "cell_type": "code",
   "execution_count": 71,
   "id": "0ff39833",
   "metadata": {},
   "outputs": [
    {
     "ename": "AttributeError",
     "evalue": "'BankAccount' object has no attribute 'balance'",
     "output_type": "error",
     "traceback": [
      "\u001b[1;31m---------------------------------------------------------------------------\u001b[0m",
      "\u001b[1;31mAttributeError\u001b[0m                            Traceback (most recent call last)",
      "\u001b[1;32m~\\AppData\\Local\\Temp\\ipykernel_15596\\3233578167.py\u001b[0m in \u001b[0;36m<module>\u001b[1;34m\u001b[0m\n\u001b[1;32m----> 1\u001b[1;33m \u001b[0mcust1\u001b[0m\u001b[1;33m.\u001b[0m\u001b[0mbalance\u001b[0m\u001b[1;33m\u001b[0m\u001b[1;33m\u001b[0m\u001b[0m\n\u001b[0m",
      "\u001b[1;31mAttributeError\u001b[0m: 'BankAccount' object has no attribute 'balance'"
     ]
    }
   ],
   "source": [
    "cust1.balance"
   ]
  },
  {
   "cell_type": "code",
   "execution_count": 72,
   "id": "1744688b",
   "metadata": {},
   "outputs": [],
   "source": [
    "cust1.balance = 500"
   ]
  },
  {
   "cell_type": "code",
   "execution_count": 73,
   "id": "154a882c",
   "metadata": {},
   "outputs": [],
   "source": [
    "cust1.set_balance(4000)"
   ]
  },
  {
   "cell_type": "code",
   "execution_count": 74,
   "id": "de6dc91b",
   "metadata": {},
   "outputs": [
    {
     "data": {
      "text/plain": [
       "8000"
      ]
     },
     "execution_count": 74,
     "metadata": {},
     "output_type": "execute_result"
    }
   ],
   "source": [
    "cust1._balance = 8000\n",
    "cust1._balance"
   ]
  },
  {
   "cell_type": "markdown",
   "id": "7dfd2d1b",
   "metadata": {},
   "source": [
    "---"
   ]
  },
  {
   "cell_type": "markdown",
   "id": "31d9b105",
   "metadata": {},
   "source": [
    "## Inheritance:\n",
    "- Inheritance allows a class (child class) to inherit properties and behaviors from another class (parent class). \n",
    "- It promotes code reusability and establishes an \"is-a\" relationship between classes. Child classes can override or extend methods and attributes of the parent class."
   ]
  },
  {
   "cell_type": "code",
   "execution_count": 75,
   "id": "e3c42206",
   "metadata": {},
   "outputs": [],
   "source": [
    "class Animal:\n",
    "    def __init__(self, species):\n",
    "        self.species = species\n",
    "\n",
    "    def make_sound(self):\n",
    "        print(\"Generic animal sound\")\n",
    "        \n",
    "    def eat(self):\n",
    "        print(f\"{self.species} is eating.\")\n",
    "            \n",
    "        \n",
    "class Dog(Animal):\n",
    "    \n",
    "    def m2(self):\n",
    "        print(\"MY METHOD CALLED\")\n",
    "\n",
    "    def make_sound(self):\n",
    "        print(\"Woof!\")\n",
    "        \n"
   ]
  },
  {
   "cell_type": "code",
   "execution_count": 76,
   "id": "43d2b6da",
   "metadata": {},
   "outputs": [],
   "source": [
    "dog1 = Dog('labraodor')"
   ]
  },
  {
   "cell_type": "code",
   "execution_count": 77,
   "id": "2d401605",
   "metadata": {},
   "outputs": [
    {
     "name": "stdout",
     "output_type": "stream",
     "text": [
      "labraodor is eating.\n"
     ]
    }
   ],
   "source": [
    "dog1.eat()"
   ]
  },
  {
   "cell_type": "code",
   "execution_count": 78,
   "id": "a3efd9b7",
   "metadata": {},
   "outputs": [
    {
     "name": "stdout",
     "output_type": "stream",
     "text": [
      "MY METHOD CALLED\n"
     ]
    }
   ],
   "source": [
    "dog1.m2()"
   ]
  },
  {
   "cell_type": "code",
   "execution_count": 79,
   "id": "72492a72",
   "metadata": {},
   "outputs": [
    {
     "data": {
      "text/plain": [
       "'labraodor'"
      ]
     },
     "execution_count": 79,
     "metadata": {},
     "output_type": "execute_result"
    }
   ],
   "source": [
    "dog1.species"
   ]
  },
  {
   "cell_type": "code",
   "execution_count": 80,
   "id": "75b297f6",
   "metadata": {},
   "outputs": [
    {
     "name": "stdout",
     "output_type": "stream",
     "text": [
      "Woof!\n"
     ]
    }
   ],
   "source": [
    "dog1.make_sound()"
   ]
  },
  {
   "cell_type": "code",
   "execution_count": null,
   "id": "7afc1921",
   "metadata": {},
   "outputs": [],
   "source": []
  },
  {
   "cell_type": "code",
   "execution_count": 81,
   "id": "d0bafccb",
   "metadata": {},
   "outputs": [
    {
     "name": "stdout",
     "output_type": "stream",
     "text": [
      "Generic animal sound\n",
      "Woof!\n",
      "breed1 is eating.\n"
     ]
    },
    {
     "ename": "AttributeError",
     "evalue": "'Dog' object has no attribute 'another_method'",
     "output_type": "error",
     "traceback": [
      "\u001b[1;31m---------------------------------------------------------------------------\u001b[0m",
      "\u001b[1;31mAttributeError\u001b[0m                            Traceback (most recent call last)",
      "\u001b[1;32m~\\AppData\\Local\\Temp\\ipykernel_15596\\867354994.py\u001b[0m in \u001b[0;36m<module>\u001b[1;34m\u001b[0m\n\u001b[0;32m      8\u001b[0m \u001b[1;33m\u001b[0m\u001b[0m\n\u001b[0;32m      9\u001b[0m \u001b[0md2\u001b[0m\u001b[1;33m.\u001b[0m\u001b[0meat\u001b[0m\u001b[1;33m(\u001b[0m\u001b[1;33m)\u001b[0m\u001b[1;33m\u001b[0m\u001b[1;33m\u001b[0m\u001b[0m\n\u001b[1;32m---> 10\u001b[1;33m \u001b[0md2\u001b[0m\u001b[1;33m.\u001b[0m\u001b[0manother_method\u001b[0m\u001b[1;33m(\u001b[0m\u001b[1;33m)\u001b[0m\u001b[1;33m\u001b[0m\u001b[1;33m\u001b[0m\u001b[0m\n\u001b[0m",
      "\u001b[1;31mAttributeError\u001b[0m: 'Dog' object has no attribute 'another_method'"
     ]
    }
   ],
   "source": [
    "d1 = Animal('cat')\n",
    "d1.species\n",
    "d1.make_sound()\n",
    "\n",
    "d2 = Dog('breed1')\n",
    "d2.make_sound()\n",
    "d2.species\n",
    "\n",
    "d2.eat()\n",
    "d2.another_method()"
   ]
  },
  {
   "cell_type": "code",
   "execution_count": 82,
   "id": "e7d98372",
   "metadata": {},
   "outputs": [
    {
     "name": "stdout",
     "output_type": "stream",
     "text": [
      "Labrador\n",
      "Woof!\n"
     ]
    }
   ],
   "source": [
    "# Using inheritance\n",
    "dog = Dog(\"Labrador\")\n",
    "print(dog.species)  # Output: \"Dog\"\n",
    "dog.make_sound()    # Output: \"Woof!\""
   ]
  },
  {
   "cell_type": "code",
   "execution_count": 83,
   "id": "49380a59",
   "metadata": {},
   "outputs": [],
   "source": [
    "# Define the base class (Vehicle)\n",
    "class Vehicle:\n",
    "    def __init__(self, brand, model):\n",
    "        self.brand = brand\n",
    "        self.model = model\n",
    "        self.speed = 0\n",
    "\n",
    "    def accelerate(self, speed_increase):\n",
    "        self.speed += speed_increase\n",
    "        print(f\"The {self.brand} {self.model} accelerates to {self.speed} mph.\")\n",
    "\n",
    "    def brake(self, speed_decrease):\n",
    "        self.speed -= speed_decrease\n",
    "        if self.speed < 0:\n",
    "            self.speed = 0\n",
    "        print(f\"The {self.brand} {self.model} slows down to {self.speed} mph.\")\n",
    "\n",
    "# Define a derived class (Car) that inherits from Vehicle\n",
    "class Car(Vehicle):\n",
    "    def honk(self):\n",
    "        print(f\"The {self.brand} {self.model} honks: 'Beep beep!'\")\n",
    "\n",
    "# Define another derived class (Bicycle) that inherits from Vehicle\n",
    "class Bicycle(Vehicle):\n",
    "    def __init__(self, brand, model, num_gears):\n",
    "        super().__init__(brand, model)\n",
    "        self.num_gears = num_gears\n",
    "\n",
    "    def ring_bell(self):\n",
    "        print(f\"The {self.brand} {self.model} rings its bell: 'Ding ding!'\")"
   ]
  },
  {
   "cell_type": "code",
   "execution_count": 84,
   "id": "fae4b657",
   "metadata": {},
   "outputs": [],
   "source": [
    "# Let's create some instances and interact with them\n",
    "v1 = Vehicle('ABC','general vehicle')\n",
    "car1 = Car(\"Toyota\", \"Camry\")\n",
    "bike1 = Bicycle(\"Schwinn\", \"Mountain Bike\", 21)"
   ]
  },
  {
   "cell_type": "code",
   "execution_count": 85,
   "id": "78e321e0",
   "metadata": {},
   "outputs": [
    {
     "name": "stdout",
     "output_type": "stream",
     "text": [
      "The Toyota Camry accelerates to 50 mph.\n"
     ]
    }
   ],
   "source": [
    "car1.accelerate(50)"
   ]
  },
  {
   "cell_type": "code",
   "execution_count": 86,
   "id": "3a02300f",
   "metadata": {},
   "outputs": [
    {
     "name": "stdout",
     "output_type": "stream",
     "text": [
      "The Toyota Camry slows down to 10 mph.\n"
     ]
    }
   ],
   "source": [
    "car1.brake(40)"
   ]
  },
  {
   "cell_type": "code",
   "execution_count": 87,
   "id": "495cf5df",
   "metadata": {},
   "outputs": [
    {
     "name": "stdout",
     "output_type": "stream",
     "text": [
      "The Toyota Camry honks: 'Beep beep!'\n"
     ]
    }
   ],
   "source": [
    "car1.honk()"
   ]
  },
  {
   "cell_type": "code",
   "execution_count": 88,
   "id": "53e22940",
   "metadata": {},
   "outputs": [
    {
     "name": "stdout",
     "output_type": "stream",
     "text": [
      "The Schwinn Mountain Bike accelerates to 60 mph.\n"
     ]
    }
   ],
   "source": [
    "bike1.accelerate(60)"
   ]
  },
  {
   "cell_type": "code",
   "execution_count": 89,
   "id": "01f6a017",
   "metadata": {},
   "outputs": [
    {
     "name": "stdout",
     "output_type": "stream",
     "text": [
      "The Schwinn Mountain Bike slows down to 40 mph.\n"
     ]
    }
   ],
   "source": [
    "bike1.brake(20)"
   ]
  },
  {
   "cell_type": "code",
   "execution_count": 90,
   "id": "abe63edc",
   "metadata": {},
   "outputs": [
    {
     "name": "stdout",
     "output_type": "stream",
     "text": [
      "The Schwinn Mountain Bike rings its bell: 'Ding ding!'\n"
     ]
    }
   ],
   "source": [
    "bike1.ring_bell()"
   ]
  },
  {
   "cell_type": "code",
   "execution_count": 91,
   "id": "211e54b5",
   "metadata": {},
   "outputs": [],
   "source": [
    "class vehicle:\n",
    "    def vmethod(self):\n",
    "        print(\"Vehicle method called.\")\n",
    "    \n",
    "    def common_merthod(self):\n",
    "        print(\"Commont method from vehicle is called.\")\n",
    "\n",
    "class smallvehicle:\n",
    "    def smethod(self):\n",
    "        print(\"smallvehicle method called.\")\n",
    "        \n",
    "    def common_merthod(self):\n",
    "        print(\"Commont method from smallvehicle is called.\")\n",
    "\n",
    "    \n",
    "class Car(vehicle,smallvehicle):\n",
    "    def __init__(self, make, model):\n",
    "        self.comapany = make\n",
    "        self.model = model\n",
    "        \n",
    "    def car_wala_method(self):\n",
    "        print(\"Car method called\")"
   ]
  },
  {
   "cell_type": "code",
   "execution_count": 92,
   "id": "fc284fc3",
   "metadata": {},
   "outputs": [],
   "source": [
    "obj1 = Car('BMW','abc')"
   ]
  },
  {
   "cell_type": "code",
   "execution_count": 93,
   "id": "0be93214",
   "metadata": {},
   "outputs": [
    {
     "name": "stdout",
     "output_type": "stream",
     "text": [
      "Commont method from vehicle is called.\n"
     ]
    }
   ],
   "source": [
    "obj1.common_merthod()"
   ]
  },
  {
   "cell_type": "code",
   "execution_count": 94,
   "id": "50427b76",
   "metadata": {},
   "outputs": [
    {
     "name": "stdout",
     "output_type": "stream",
     "text": [
      "smallvehicle method called.\n"
     ]
    }
   ],
   "source": [
    "obj1.smethod()"
   ]
  },
  {
   "cell_type": "code",
   "execution_count": 95,
   "id": "6c9b36ff",
   "metadata": {},
   "outputs": [
    {
     "name": "stdout",
     "output_type": "stream",
     "text": [
      "Vehicle method called.\n"
     ]
    }
   ],
   "source": [
    "obj1.vmethod()"
   ]
  },
  {
   "cell_type": "code",
   "execution_count": 96,
   "id": "055e1d85",
   "metadata": {},
   "outputs": [
    {
     "name": "stdout",
     "output_type": "stream",
     "text": [
      "Car method called\n"
     ]
    }
   ],
   "source": [
    "obj1.car_wala_method()"
   ]
  },
  {
   "cell_type": "code",
   "execution_count": 97,
   "id": "821137a9",
   "metadata": {},
   "outputs": [
    {
     "data": {
      "text/plain": [
       "'dfdsjdfksj'"
      ]
     },
     "execution_count": 97,
     "metadata": {},
     "output_type": "execute_result"
    }
   ],
   "source": [
    "a = 'dfds'\n",
    "b = 'jdfksj'\n",
    "\n",
    "a + b"
   ]
  },
  {
   "cell_type": "code",
   "execution_count": 98,
   "id": "5b03c78e",
   "metadata": {},
   "outputs": [
    {
     "data": {
      "text/plain": [
       "11"
      ]
     },
     "execution_count": 98,
     "metadata": {},
     "output_type": "execute_result"
    }
   ],
   "source": [
    "a = 5\n",
    "b = 6\n",
    "\n",
    "a + b"
   ]
  },
  {
   "cell_type": "markdown",
   "id": "7ab63d38",
   "metadata": {},
   "source": [
    "## Polymorphism:\n",
    "- The literal meaning of polymorphism is the condition of occurrence in different forms.\n",
    "\n",
    "- It refers to the use of a single type entity (method, operator or object) to represent different types in different scenarios.\n",
    "- Polymorphism is often achieved through method overriding."
   ]
  },
  {
   "cell_type": "code",
   "execution_count": 165,
   "id": "289c5315",
   "metadata": {},
   "outputs": [
    {
     "name": "stdout",
     "output_type": "stream",
     "text": [
      "mooon sun\n"
     ]
    }
   ],
   "source": [
    "aa = 'mooon ' \n",
    "bb = 'sun'\n",
    "print(aa+ bb)"
   ]
  },
  {
   "cell_type": "code",
   "execution_count": 166,
   "id": "6d843685",
   "metadata": {},
   "outputs": [
    {
     "name": "stdout",
     "output_type": "stream",
     "text": [
      "6\n"
     ]
    }
   ],
   "source": [
    "a = 1\n",
    "b = 5\n",
    "print(a+b)"
   ]
  },
  {
   "cell_type": "code",
   "execution_count": 168,
   "id": "93e6158c",
   "metadata": {},
   "outputs": [],
   "source": [
    "class Car:\n",
    "    def start_engine(self):\n",
    "        print(\"Normal Engine Started......\")\n",
    "    \n",
    "    def add_brake():\n",
    "        print(\"halted\")\n",
    "        \n",
    "class Electric_car(Car):\n",
    "    def __init__(self, make, model):\n",
    "        self.make = make\n",
    "        self.model = model\n",
    "        \n",
    "    def start_engine(self):\n",
    "        print(\"Electric Engine Started.....\")\n",
    "    \n",
    "           \n",
    "class Hybrid_car(Car):\n",
    "    def __init__(self, make, model):\n",
    "        self.make = make\n",
    "        self.model = model\n",
    "        \n",
    "    def start_engine(self):\n",
    "        print(\"Hybrid Engine Started.....\")\n",
    "    "
   ]
  },
  {
   "cell_type": "code",
   "execution_count": 169,
   "id": "f5af973c",
   "metadata": {},
   "outputs": [],
   "source": [
    "normal_car = Car()\n",
    "my_EV = Electric_car('BMV','tesla')\n",
    "my_HC = Hybrid_car('Hyundai','verna')"
   ]
  },
  {
   "cell_type": "code",
   "execution_count": 103,
   "id": "94133679",
   "metadata": {},
   "outputs": [
    {
     "name": "stdout",
     "output_type": "stream",
     "text": [
      "Normal Engine Started......\n"
     ]
    }
   ],
   "source": [
    "normal_car.start_engine()"
   ]
  },
  {
   "cell_type": "code",
   "execution_count": 104,
   "id": "769960f4",
   "metadata": {},
   "outputs": [
    {
     "name": "stdout",
     "output_type": "stream",
     "text": [
      "Electric Engine Started.....\n"
     ]
    }
   ],
   "source": [
    "my_EV.start_engine()"
   ]
  },
  {
   "cell_type": "code",
   "execution_count": 105,
   "id": "125a7306",
   "metadata": {},
   "outputs": [
    {
     "name": "stdout",
     "output_type": "stream",
     "text": [
      "Hybrid Engine Started.....\n"
     ]
    }
   ],
   "source": [
    "my_HC.start_engine()"
   ]
  },
  {
   "cell_type": "code",
   "execution_count": 170,
   "id": "0b8b7e6d",
   "metadata": {},
   "outputs": [],
   "source": [
    "class Car:\n",
    "    def __init__(self, brand, model):\n",
    "        self.brand = brand\n",
    "        self.model = model\n",
    "\n",
    "    def move(self):\n",
    "        print(\"Drive!\")\n",
    "\n",
    "\n",
    "class Boat:\n",
    "    def __init__(self, brand, model):\n",
    "        self.brand = brand\n",
    "        self.model = model\n",
    "\n",
    "    def move(self):\n",
    "        print(\"Sail!\")\n",
    "\n",
    "class Plane:\n",
    "    def __init__(self, brand, model):\n",
    "        self.brand = brand\n",
    "        self.model = model\n",
    "\n",
    "    def move(self):\n",
    "        print(\"Fly!\")"
   ]
  },
  {
   "cell_type": "code",
   "execution_count": 171,
   "id": "4b9725fd",
   "metadata": {},
   "outputs": [],
   "source": [
    "car1 = Car(\"Ford\", \"Mustang\")       #Create a Car class\n",
    "boat1 = Boat(\"Ibiza\", \"Touring 20\") #Create a Boat class\n",
    "plane1 = Plane(\"Boeing\", \"747\") "
   ]
  },
  {
   "cell_type": "code",
   "execution_count": 172,
   "id": "de5abac2",
   "metadata": {},
   "outputs": [
    {
     "name": "stdout",
     "output_type": "stream",
     "text": [
      "Fly!\n"
     ]
    }
   ],
   "source": [
    "plane1.move()"
   ]
  },
  {
   "cell_type": "code",
   "execution_count": 109,
   "id": "e8637b0a",
   "metadata": {},
   "outputs": [
    {
     "name": "stdout",
     "output_type": "stream",
     "text": [
      "Sail!\n"
     ]
    }
   ],
   "source": [
    "boat1.move()"
   ]
  },
  {
   "cell_type": "code",
   "execution_count": 110,
   "id": "04e1a8d4",
   "metadata": {},
   "outputs": [
    {
     "name": "stdout",
     "output_type": "stream",
     "text": [
      "Drive!\n"
     ]
    }
   ],
   "source": [
    "car1.move()"
   ]
  },
  {
   "cell_type": "code",
   "execution_count": 111,
   "id": "5cff940e",
   "metadata": {},
   "outputs": [],
   "source": [
    "class shape:\n",
    "    def calculate_area(self,i1, i2 = 0):\n",
    "        if i2 == 0:\n",
    "            return 3.14 * (i1**2)\n",
    "        else:\n",
    "            return i1 * i2"
   ]
  },
  {
   "cell_type": "code",
   "execution_count": 112,
   "id": "38ac45cd",
   "metadata": {},
   "outputs": [],
   "source": [
    "circle = shape()"
   ]
  },
  {
   "cell_type": "code",
   "execution_count": 113,
   "id": "5449eaf8",
   "metadata": {},
   "outputs": [
    {
     "data": {
      "text/plain": [
       "78.5"
      ]
     },
     "execution_count": 113,
     "metadata": {},
     "output_type": "execute_result"
    }
   ],
   "source": [
    "circle.calculate_area(5)"
   ]
  },
  {
   "cell_type": "code",
   "execution_count": 114,
   "id": "97ff8782",
   "metadata": {},
   "outputs": [
    {
     "data": {
      "text/plain": [
       "20"
      ]
     },
     "execution_count": 114,
     "metadata": {},
     "output_type": "execute_result"
    }
   ],
   "source": [
    "circle.calculate_area(4,5)"
   ]
  },
  {
   "cell_type": "code",
   "execution_count": 117,
   "id": "8edd989d",
   "metadata": {},
   "outputs": [],
   "source": [
    "class Shape:\n",
    "    def area(self,radius):\n",
    "        return 3.14 * (radius**2)\n",
    "    \n",
    "    def area(self, a,b):\n",
    "        return a*b"
   ]
  },
  {
   "cell_type": "code",
   "execution_count": 120,
   "id": "286b4214",
   "metadata": {},
   "outputs": [
    {
     "data": {
      "text/plain": [
       "5"
      ]
     },
     "execution_count": 120,
     "metadata": {},
     "output_type": "execute_result"
    }
   ],
   "source": [
    "obj = Shape()\n",
    "obj.area(1,5)"
   ]
  },
  {
   "cell_type": "code",
   "execution_count": 121,
   "id": "c448b35b",
   "metadata": {},
   "outputs": [],
   "source": [
    "def fun1(a, b= 1):\n",
    "    return a +b"
   ]
  },
  {
   "cell_type": "code",
   "execution_count": 122,
   "id": "b3cf34b9",
   "metadata": {},
   "outputs": [
    {
     "name": "stdout",
     "output_type": "stream",
     "text": [
      "8\n"
     ]
    }
   ],
   "source": [
    "print(fun1(3,5))"
   ]
  },
  {
   "cell_type": "code",
   "execution_count": 123,
   "id": "24cbc63d",
   "metadata": {},
   "outputs": [
    {
     "name": "stdout",
     "output_type": "stream",
     "text": [
      "4\n"
     ]
    }
   ],
   "source": [
    "print(fun1(3))"
   ]
  },
  {
   "cell_type": "code",
   "execution_count": 124,
   "id": "6c87d7f1",
   "metadata": {},
   "outputs": [],
   "source": [
    "class Shape:\n",
    "    def area(self, a, b = 0, c = 0):\n",
    "        if b == 0 and c == 0:\n",
    "            return 3.14 * a**2\n",
    "        elif c == 0 and b!=0:\n",
    "            return a*b\n",
    "        else:\n",
    "            return a*b*c\n",
    "        \n",
    "   "
   ]
  },
  {
   "cell_type": "code",
   "execution_count": 125,
   "id": "1dc82755",
   "metadata": {},
   "outputs": [],
   "source": [
    "ob = Shape()"
   ]
  },
  {
   "cell_type": "code",
   "execution_count": 126,
   "id": "7794083a",
   "metadata": {},
   "outputs": [
    {
     "data": {
      "text/plain": [
       "50.24"
      ]
     },
     "execution_count": 126,
     "metadata": {},
     "output_type": "execute_result"
    }
   ],
   "source": [
    "ob.area(4)"
   ]
  },
  {
   "cell_type": "code",
   "execution_count": 127,
   "id": "dde49079",
   "metadata": {},
   "outputs": [
    {
     "data": {
      "text/plain": [
       "20"
      ]
     },
     "execution_count": 127,
     "metadata": {},
     "output_type": "execute_result"
    }
   ],
   "source": [
    "ob.area(4,5)"
   ]
  },
  {
   "cell_type": "code",
   "execution_count": 128,
   "id": "f9c7733c",
   "metadata": {},
   "outputs": [
    {
     "data": {
      "text/plain": [
       "120"
      ]
     },
     "execution_count": 128,
     "metadata": {},
     "output_type": "execute_result"
    }
   ],
   "source": [
    "ob.area(4,5,6)"
   ]
  },
  {
   "cell_type": "code",
   "execution_count": 129,
   "id": "8beefcf7",
   "metadata": {},
   "outputs": [],
   "source": [
    "circle = Shape()\n",
    "rectange = Shape()"
   ]
  },
  {
   "cell_type": "code",
   "execution_count": 130,
   "id": "9fe60d2b",
   "metadata": {},
   "outputs": [
    {
     "data": {
      "text/plain": [
       "78.5"
      ]
     },
     "execution_count": 130,
     "metadata": {},
     "output_type": "execute_result"
    }
   ],
   "source": [
    "circle.area(5)"
   ]
  },
  {
   "cell_type": "code",
   "execution_count": 131,
   "id": "a48b9cc3",
   "metadata": {},
   "outputs": [
    {
     "data": {
      "text/plain": [
       "12"
      ]
     },
     "execution_count": 131,
     "metadata": {},
     "output_type": "execute_result"
    }
   ],
   "source": [
    "rectange.area(3,4)"
   ]
  },
  {
   "cell_type": "code",
   "execution_count": 132,
   "id": "59656d62",
   "metadata": {},
   "outputs": [
    {
     "data": {
      "text/plain": [
       "120"
      ]
     },
     "execution_count": 132,
     "metadata": {},
     "output_type": "execute_result"
    }
   ],
   "source": [
    "rectange.area(4,5,6)"
   ]
  },
  {
   "cell_type": "code",
   "execution_count": 133,
   "id": "9c4cbc55",
   "metadata": {},
   "outputs": [],
   "source": [
    "obj1 = Shape()"
   ]
  },
  {
   "cell_type": "code",
   "execution_count": 134,
   "id": "f3786fcd",
   "metadata": {},
   "outputs": [
    {
     "data": {
      "text/plain": [
       "50.24"
      ]
     },
     "execution_count": 134,
     "metadata": {},
     "output_type": "execute_result"
    }
   ],
   "source": [
    "obj1.area(a = 4)"
   ]
  },
  {
   "cell_type": "code",
   "execution_count": 135,
   "id": "edc4ad22",
   "metadata": {},
   "outputs": [
    {
     "data": {
      "text/plain": [
       "24"
      ]
     },
     "execution_count": 135,
     "metadata": {},
     "output_type": "execute_result"
    }
   ],
   "source": [
    "obj1.area(2,3,4)"
   ]
  },
  {
   "cell_type": "code",
   "execution_count": 136,
   "id": "4f62aa9d",
   "metadata": {},
   "outputs": [
    {
     "data": {
      "text/plain": [
       "6"
      ]
     },
     "execution_count": 136,
     "metadata": {},
     "output_type": "execute_result"
    }
   ],
   "source": [
    "obj1.area(2,3)"
   ]
  },
  {
   "cell_type": "code",
   "execution_count": 137,
   "id": "48e6fce1",
   "metadata": {},
   "outputs": [],
   "source": [
    "class Shape:\n",
    "    def draw(self):\n",
    "        pass\n",
    "\n",
    "class Circle(Shape):\n",
    "    def draw(self):\n",
    "        print(\"Drawing a circle\")\n",
    "\n",
    "class Square(Shape):\n",
    "    def draw(self):\n",
    "        print(\"Drawing a square\")\n",
    "\n"
   ]
  },
  {
   "cell_type": "code",
   "execution_count": 138,
   "id": "48b85a30",
   "metadata": {},
   "outputs": [
    {
     "name": "stdout",
     "output_type": "stream",
     "text": [
      "Drawing a circle\n",
      "Drawing a square\n"
     ]
    }
   ],
   "source": [
    "# Using polymorphism\n",
    "shapes = [Circle(), Square()]\n",
    "for shape in shapes:\n",
    "    shape.draw()"
   ]
  },
  {
   "cell_type": "markdown",
   "id": "dd5cfb05",
   "metadata": {},
   "source": [
    "---\n",
    "## ABSTRACTION :\n",
    "- Abstraction is the process of hiding the implementation details of a class from the user and exposing only the essential features.\n",
    "- Abstract classes cannot be instantiated and serve as templates for other classes to inherit from."
   ]
  },
  {
   "cell_type": "code",
   "execution_count": 176,
   "id": "2478838c",
   "metadata": {},
   "outputs": [],
   "source": [
    "from abc import ABC, abstractmethod\n",
    "\n",
    "# ABSTRACT CLASS\n",
    "class socail_media(ABC):\n",
    "    def database(self):\n",
    "        print(\"Database connected !!!!!\") \n",
    "        \n",
    "    @abstractmethod\n",
    "    def security(self):\n",
    "        pass"
   ]
  },
  {
   "cell_type": "code",
   "execution_count": 141,
   "id": "d0ca913a",
   "metadata": {},
   "outputs": [],
   "source": [
    "class Mobile(socail_media):\n",
    "    def mobile_app(self):\n",
    "        print(\"MOBILE APP IS RINNING\")\n",
    "    \n",
    "    def security(self):\n",
    "        print(\"MOBILE CONNECTION IS SECURED..\")"
   ]
  },
  {
   "cell_type": "code",
   "execution_count": 142,
   "id": "3006d62b",
   "metadata": {},
   "outputs": [],
   "source": [
    "class Webapp(socail_media):\n",
    "    def webapp(self):\n",
    "        print(\"WEBAPP IS RUNNING.......\")\n",
    "        \n",
    "    def security(self):\n",
    "        print(\"WEB CONNECTION IS SECURED..\")"
   ]
  },
  {
   "cell_type": "code",
   "execution_count": 143,
   "id": "7f8bc298",
   "metadata": {},
   "outputs": [],
   "source": [
    "m1 = Mobile()"
   ]
  },
  {
   "cell_type": "code",
   "execution_count": 144,
   "id": "2a34b7aa",
   "metadata": {},
   "outputs": [
    {
     "name": "stdout",
     "output_type": "stream",
     "text": [
      "MOBILE APP IS RINNING\n"
     ]
    }
   ],
   "source": [
    "m1.mobile_app()"
   ]
  },
  {
   "cell_type": "code",
   "execution_count": 145,
   "id": "d76c34c8",
   "metadata": {},
   "outputs": [],
   "source": [
    "w1 = Webapp()"
   ]
  },
  {
   "cell_type": "code",
   "execution_count": 177,
   "id": "e30d5162",
   "metadata": {},
   "outputs": [
    {
     "name": "stdout",
     "output_type": "stream",
     "text": [
      "Database connected !!!!!\n"
     ]
    }
   ],
   "source": [
    "w1.database()"
   ]
  },
  {
   "cell_type": "code",
   "execution_count": null,
   "id": "99f55a84",
   "metadata": {},
   "outputs": [],
   "source": []
  },
  {
   "cell_type": "code",
   "execution_count": 178,
   "id": "7968b34e",
   "metadata": {},
   "outputs": [],
   "source": [
    "from abc import ABC, abstractmethod\n",
    "\n",
    "class BankAccount(ABC):\n",
    "    def __init__(self, account_number, balance):\n",
    "        self.account_number = account_number\n",
    "        self.balance = balance\n",
    "\n",
    "    @abstractmethod\n",
    "    def deposit(self, amount):\n",
    "        pass\n",
    "\n",
    "    @abstractmethod\n",
    "    def withdraw(self, amount):\n",
    "        pass\n",
    "\n",
    "    def get_balance(self):\n",
    "        return self.balance\n",
    "    \n",
    "    @abstractmethod\n",
    "    def security(self):\n",
    "        pass\n",
    "\n",
    "    \n",
    "    \n",
    "class SavingsAccount(BankAccount):\n",
    "    def __init__(self, account_number, balance):\n",
    "        super().__init__(account_number, balance)\n",
    "\n",
    "    def deposit(self, amount):\n",
    "        if amount > 0:\n",
    "            self.balance += amount\n",
    "\n",
    "    def withdraw(self, amount):\n",
    "        if 0 < amount <= self.balance:\n",
    "            self.balance -= amount\n",
    "        \n",
    "    def security(self):\n",
    "        print(\"Is secure\")\n",
    "\n",
    "            \n",
    "            \n",
    "class CurrentAccount(BankAccount):\n",
    "    def __init__(self, account_number, balance):\n",
    "        super().__init__(account_number, balance)\n",
    "\n",
    "    def deposit(self, amount):\n",
    "        if amount > 0:\n",
    "            self.balance += amount\n",
    "\n",
    "    def withdraw(self, amount):\n",
    "        if 0 < amount <= self.balance:\n",
    "            self.balance -= amount\n",
    "        \n",
    "    def security(self):\n",
    "        print(\"Is secure\")"
   ]
  },
  {
   "cell_type": "code",
   "execution_count": 148,
   "id": "57d44bec",
   "metadata": {},
   "outputs": [],
   "source": [
    "# Using abstraction\n",
    "savings_account = SavingsAccount(\"12345\", 5000)\n",
    "current_account = CurrentAccount(\"67890\", 10000)"
   ]
  },
  {
   "cell_type": "code",
   "execution_count": 149,
   "id": "081690c2",
   "metadata": {},
   "outputs": [
    {
     "name": "stdout",
     "output_type": "stream",
     "text": [
      "Savings Account Balance: 7000\n",
      "Current Account Balance: 9500\n"
     ]
    }
   ],
   "source": [
    "savings_account.deposit(2000)\n",
    "current_account.withdraw(500)\n",
    "\n",
    "print(\"Savings Account Balance:\", savings_account.get_balance())  # Output: 7000\n",
    "print(\"Current Account Balance:\", current_account.get_balance())  # Output: 9500"
   ]
  },
  {
   "cell_type": "markdown",
   "id": "40f5d3ff",
   "metadata": {},
   "source": [
    "---\n",
    "- The user of the Bank Account Management System only interacts with the simple interface provided by the abstract base class (BankAccount). The internal details of how deposits and withdrawals are handled are hidden (abstracted) from the user, providing a clean and easy-to-use interface for managing bank accounts.\n",
    "---"
   ]
  },
  {
   "cell_type": "code",
   "execution_count": 150,
   "id": "4127891a",
   "metadata": {},
   "outputs": [
    {
     "name": "stdout",
     "output_type": "stream",
     "text": [
      "1 s\n",
      "2 4\n",
      "3 21\n",
      "4 4\n"
     ]
    }
   ],
   "source": [
    "l = ['s',4,21,'4']\n",
    "for index,value in enumerate(l,start=1):\n",
    "    print(index,value)"
   ]
  },
  {
   "cell_type": "code",
   "execution_count": 151,
   "id": "88c72370",
   "metadata": {},
   "outputs": [
    {
     "data": {
      "text/plain": [
       "[(1, 'abc'), (2, 'xyz'), (3, 'bdf')]"
      ]
     },
     "execution_count": 151,
     "metadata": {},
     "output_type": "execute_result"
    }
   ],
   "source": [
    "# enumerate\n",
    "l = ['abc','xyz','bdf']\n",
    "list(enumerate(l,start = 1))"
   ]
  },
  {
   "cell_type": "code",
   "execution_count": 179,
   "id": "0f0dad25",
   "metadata": {},
   "outputs": [],
   "source": [
    "'''\n",
    "Project Overview:\n",
    "The Task Manager will have the following features:\n",
    "\n",
    "1. Add a new task with a title and description.\n",
    "2. View all tasks with their details.\n",
    "3. Mark a task as completed.\n",
    "4. Remove a task from the list.\n",
    "'''\n",
    "\n",
    "\n",
    "class Task:\n",
    "    def __init__(self, title, description):\n",
    "        self.title = title\n",
    "        self.description = description\n",
    "        self.completed = False\n",
    "        \n",
    "        \n",
    "    def mark_completed(self):\n",
    "        self.completed = True\n",
    "        \n",
    "        \n",
    "class TaskManager:\n",
    "    def __init__(self):\n",
    "        self.tasks = []\n",
    "        \n",
    "    def add_task(self, title, description):\n",
    "        task = Task(title,description)\n",
    "        self.tasks.append(task)\n",
    "    \n",
    "    def view_task(self):\n",
    "        for index, task in enumerate(self.tasks,start=1):\n",
    "            status = \"completed\" if task.completed else \"Not completed\"\n",
    "            print(f\"{index}. Title: {task.title}, Description: {task.description}, Status: {status}\")\n",
    "     \n",
    "    def mark_completed(self, task_index):\n",
    "        if 1 <= task_index <= len(self.tasks):\n",
    "            task = self.tasks[task_index-1]\n",
    "            task.mark_completed()\n",
    "        else:\n",
    "            print('Invalid task number...')\n",
    "            \n",
    "    def remove_task(self, task_index):\n",
    "        if 1 <= task_index <= len(self.tasks):\n",
    "            self.tasks.pop(task_index-1)\n",
    "        else:\n",
    "            print(\"Invalid Task index.\")\n",
    "            \n",
    "def main():\n",
    "     task_manager = TaskManager()\n",
    "     \n",
    "     while True:\n",
    "        print(\"\\nTask Manager Menu:\")\n",
    "        print(\"1. Add Task\")\n",
    "        print(\"2. View Tasks\")\n",
    "        print(\"3. Mark Task as Completed\")\n",
    "        print(\"4. Remove Task\")\n",
    "        print(\"5. Exit\")\n",
    "\n",
    "        choice = input(\"Enter your choice: \")\n",
    "        \n",
    "        if choice == '1':\n",
    "            title = input(\"Enter task title: \")\n",
    "            description = input(\"Enter task description: \")\n",
    "            task_manager.add_task(title, description)\n",
    "            print(\"Task added succssully!..\")\n",
    "            \n",
    "        elif choice == '2':\n",
    "            task_manager.view_task()    \n",
    "            \n",
    "        elif choice == '3':\n",
    "            task_index = int(input(\"Enter the task number to mark as completed: \"))\n",
    "            task_manager.mark_completed(task_index)\n",
    "            \n",
    "        elif choice == '4':\n",
    "            task_index = int(input(\"Enter the task number to remove: \"))\n",
    "            task_manager.remove_task(task_index)\n",
    "            \n",
    "        elif choice == '5':\n",
    "            print(\"Exiting Task Manager.\")\n",
    "            break\n",
    "        else:\n",
    "            print(\"Invalid choice. Please try again.\")        "
   ]
  },
  {
   "cell_type": "code",
   "execution_count": 180,
   "id": "d474798e",
   "metadata": {},
   "outputs": [
    {
     "name": "stdout",
     "output_type": "stream",
     "text": [
      "\n",
      "Task Manager Menu:\n",
      "1. Add Task\n",
      "2. View Tasks\n",
      "3. Mark Task as Completed\n",
      "4. Remove Task\n",
      "5. Exit\n",
      "Enter your choice: 1\n",
      "Enter task title: Project\n",
      "Enter task description: game name payer environment level run\n",
      "Task added succssully!..\n",
      "\n",
      "Task Manager Menu:\n",
      "1. Add Task\n",
      "2. View Tasks\n",
      "3. Mark Task as Completed\n",
      "4. Remove Task\n",
      "5. Exit\n",
      "Enter your choice: 2\n",
      "1. Title: Project, Description: game name payer environment level run, Status: Not completed\n",
      "\n",
      "Task Manager Menu:\n",
      "1. Add Task\n",
      "2. View Tasks\n",
      "3. Mark Task as Completed\n",
      "4. Remove Task\n",
      "5. Exit\n",
      "Enter your choice: 5\n",
      "Exiting Task Manager.\n"
     ]
    }
   ],
   "source": [
    "if __name__ == \"__main__\":\n",
    "    main()\n",
    "            "
   ]
  },
  {
   "cell_type": "code",
   "execution_count": 163,
   "id": "c3cc4483",
   "metadata": {},
   "outputs": [
    {
     "name": "stdout",
     "output_type": "stream",
     "text": [
      "\n",
      "Task Manager Menu:\n",
      "1. Add Task\n",
      "2. View Tasks\n",
      "3. Mark Task as Completed\n",
      "4. Remove Task\n",
      "5. Exit\n",
      "Enter your choice: 1\n",
      "Enter task title: Hello\n",
      "Enter task description: helo\n",
      "Task added succssully!..\n",
      "\n",
      "Task Manager Menu:\n",
      "1. Add Task\n",
      "2. View Tasks\n",
      "3. Mark Task as Completed\n",
      "4. Remove Task\n",
      "5. Exit\n",
      "Enter your choice: 5\n",
      "Exiting Task Manager.\n"
     ]
    }
   ],
   "source": [
    "main()"
   ]
  },
  {
   "cell_type": "code",
   "execution_count": 157,
   "id": "22feb4e1",
   "metadata": {},
   "outputs": [
    {
     "name": "stdout",
     "output_type": "stream",
     "text": [
      "adf\n",
      "4\n",
      "4ff\n",
      "9\n"
     ]
    }
   ],
   "source": [
    "l = ['adf',4,'4ff',9]\n",
    "for i in l:\n",
    "    print(i)"
   ]
  },
  {
   "cell_type": "code",
   "execution_count": null,
   "id": "b4d157b1",
   "metadata": {},
   "outputs": [],
   "source": [
    "for index, value in enumerate(l,start=1):\n",
    "    print(index, \": \", value)"
   ]
  },
  {
   "cell_type": "code",
   "execution_count": 2,
   "id": "9f95cad0",
   "metadata": {},
   "outputs": [],
   "source": [
    "\n",
    "class Task:\n",
    "    def __init__(self, title, description):\n",
    "        self.title = title\n",
    "        self.description = description\n",
    "        self.completed = False\n",
    "        \n",
    "        \n",
    "    def mark_completed(self):\n",
    "        self.completed = True\n",
    "        "
   ]
  },
  {
   "cell_type": "code",
   "execution_count": 3,
   "id": "fc2106f8",
   "metadata": {},
   "outputs": [],
   "source": [
    "task1 = Task('read books', 'boodfskjfskaf')"
   ]
  },
  {
   "cell_type": "code",
   "execution_count": null,
   "id": "d18a890a",
   "metadata": {},
   "outputs": [],
   "source": [
    "task2 = Task('dosomething','sfdafhashd')"
   ]
  },
  {
   "cell_type": "code",
   "execution_count": null,
   "id": "48680881",
   "metadata": {},
   "outputs": [],
   "source": [
    "tasks = [task1,task2]"
   ]
  },
  {
   "cell_type": "code",
   "execution_count": null,
   "id": "ce9b9920",
   "metadata": {},
   "outputs": [],
   "source": [
    "task1.mark_completed() "
   ]
  },
  {
   "cell_type": "code",
   "execution_count": null,
   "id": "46c67dc3",
   "metadata": {},
   "outputs": [],
   "source": [
    " for index, task in enumerate(tasks,start=1):\n",
    "        status = \"Completed\" if task.completed else \"Not completed\"\n",
    "        print(f\"{index}. Title: {task.title}, Description: {task.description}, Status: {status}\")"
   ]
  },
  {
   "cell_type": "code",
   "execution_count": null,
   "id": "335c41fb",
   "metadata": {},
   "outputs": [],
   "source": []
  },
  {
   "cell_type": "code",
   "execution_count": null,
   "id": "229d26b4",
   "metadata": {},
   "outputs": [],
   "source": []
  },
  {
   "cell_type": "code",
   "execution_count": null,
   "id": "a7813c4a",
   "metadata": {},
   "outputs": [],
   "source": []
  },
  {
   "cell_type": "code",
   "execution_count": null,
   "id": "c500d57f",
   "metadata": {},
   "outputs": [],
   "source": []
  },
  {
   "cell_type": "markdown",
   "id": "d38325ca",
   "metadata": {},
   "source": [
    "# Method Overloading:"
   ]
  },
  {
   "cell_type": "raw",
   "id": "afe421c8",
   "metadata": {},
   "source": [
    "Method overloading refers to the ability to define multiple methods in a class with the same name but different parameter lists (i.e., a different number or type of parameters). The appropriate method is selected at compile-time based on the arguments provided.\n",
    "\n",
    "In languages like Python, method overloading is not directly supported, but you can achieve similar functionality using default parameter values or variable-length argument lists."
   ]
  },
  {
   "cell_type": "code",
   "execution_count": 161,
   "id": "23378ec7",
   "metadata": {},
   "outputs": [
    {
     "name": "stdout",
     "output_type": "stream",
     "text": [
      "1\n",
      "3\n",
      "6\n"
     ]
    }
   ],
   "source": [
    "class Calculator:\n",
    "    def add(self, a, b=0, c=0):\n",
    "        return a + b + c\n",
    "\n",
    "calc = Calculator()\n",
    "\n",
    "result1 = calc.add(1)\n",
    "result2 = calc.add(1, 2)\n",
    "result3 = calc.add(1, 2, 3)\n",
    "\n",
    "print(result1)  # Output: 1\n",
    "print(result2)  # Output: 3\n",
    "print(result3)  # Output: 6\n"
   ]
  },
  {
   "cell_type": "raw",
   "id": "4126064c",
   "metadata": {},
   "source": [
    "add method is defined with three parameters (a, b, and c). b and c have default values of 0. This allows you to call add with one, two, or three arguments."
   ]
  },
  {
   "cell_type": "markdown",
   "id": "b0844e69",
   "metadata": {},
   "source": [
    "# Method Overriding:"
   ]
  },
  {
   "cell_type": "raw",
   "id": "a83731d1",
   "metadata": {},
   "source": [
    "As explained in the previous answer, method overriding allows a subclass to provide a specific implementation for a method that is already defined in its superclass. This is done to customize the behavior of a method inherited from the parent class.\n",
    "\n"
   ]
  },
  {
   "cell_type": "code",
   "execution_count": 162,
   "id": "6ff14d85",
   "metadata": {},
   "outputs": [
    {
     "name": "stdout",
     "output_type": "stream",
     "text": [
      "Bark\n",
      "Meow\n"
     ]
    }
   ],
   "source": [
    "class Animal:\n",
    "    def make_sound(self):\n",
    "        print(\"Generic animal sound\")\n",
    "\n",
    "class Dog(Animal):\n",
    "    def make_sound(self):\n",
    "        print(\"Bark\")\n",
    "\n",
    "class Cat(Animal):\n",
    "    def make_sound(self):\n",
    "        print(\"Meow\")\n",
    "\n",
    "dog = Dog()\n",
    "cat = Cat()\n",
    "\n",
    "dog.make_sound()  # Output: Bark\n",
    "cat.make_sound()  # Output: Meow\n"
   ]
  },
  {
   "cell_type": "raw",
   "id": "120e7940",
   "metadata": {},
   "source": [
    "Dog and Cat override the make_sound method inherited from Animal with their specific implementations."
   ]
  },
  {
   "cell_type": "code",
   "execution_count": null,
   "id": "e825191f",
   "metadata": {},
   "outputs": [],
   "source": []
  }
 ],
 "metadata": {
  "kernelspec": {
   "display_name": "Python 3 (ipykernel)",
   "language": "python",
   "name": "python3"
  },
  "language_info": {
   "codemirror_mode": {
    "name": "ipython",
    "version": 3
   },
   "file_extension": ".py",
   "mimetype": "text/x-python",
   "name": "python",
   "nbconvert_exporter": "python",
   "pygments_lexer": "ipython3",
   "version": "3.9.13"
  }
 },
 "nbformat": 4,
 "nbformat_minor": 5
}
