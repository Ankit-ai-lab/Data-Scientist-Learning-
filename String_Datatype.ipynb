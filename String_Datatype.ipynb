{
 "cells": [
  {
   "cell_type": "markdown",
   "id": "abbf4f0e",
   "metadata": {},
   "source": [
    "# 1. How to Create Str Object ?"
   ]
  },
  {
   "cell_type": "code",
   "execution_count": 1,
   "id": "39086521",
   "metadata": {},
   "outputs": [
    {
     "data": {
      "text/plain": [
       "'hello world'"
      ]
     },
     "execution_count": 1,
     "metadata": {},
     "output_type": "execute_result"
    }
   ],
   "source": [
    "'hello world'"
   ]
  },
  {
   "cell_type": "code",
   "execution_count": 2,
   "id": "535f1a5d",
   "metadata": {},
   "outputs": [
    {
     "data": {
      "text/plain": [
       "'Hello world'"
      ]
     },
     "execution_count": 2,
     "metadata": {},
     "output_type": "execute_result"
    }
   ],
   "source": [
    "\"Hello world\"     #\"\"\"   \"\"\""
   ]
  },
  {
   "cell_type": "code",
   "execution_count": 43,
   "id": "f79f5820",
   "metadata": {},
   "outputs": [
    {
     "name": "stdout",
     "output_type": "stream",
     "text": [
      "<class 'set'>\n"
     ]
    }
   ],
   "source": [
    "a =set(\"Hello world\")\n",
    "print(type(a))\n"
   ]
  },
  {
   "cell_type": "code",
   "execution_count": 3,
   "id": "40d4e570",
   "metadata": {},
   "outputs": [
    {
     "name": "stdout",
     "output_type": "stream",
     "text": [
      "<class 'str'>\n"
     ]
    }
   ],
   "source": [
    "a = \"True\"\n",
    "print(type(a))"
   ]
  },
  {
   "cell_type": "code",
   "execution_count": 5,
   "id": "5be99e50",
   "metadata": {},
   "outputs": [
    {
     "name": "stdout",
     "output_type": "stream",
     "text": [
      "<class 'bool'>\n"
     ]
    }
   ],
   "source": [
    "ab = True\n",
    "print(type(ab))"
   ]
  },
  {
   "cell_type": "code",
   "execution_count": 7,
   "id": "01d0bc93",
   "metadata": {},
   "outputs": [
    {
     "name": "stdout",
     "output_type": "stream",
     "text": [
      "<class 'int'>\n"
     ]
    }
   ],
   "source": [
    "a = 45\n",
    "print(type(a))"
   ]
  },
  {
   "cell_type": "code",
   "execution_count": 48,
   "id": "e0afc2d8",
   "metadata": {},
   "outputs": [
    {
     "name": "stdout",
     "output_type": "stream",
     "text": [
      "True\n"
     ]
    }
   ],
   "source": [
    "s1 = str(True)\n",
    "print(s1)"
   ]
  },
  {
   "cell_type": "code",
   "execution_count": 47,
   "id": "ce74d0b8",
   "metadata": {},
   "outputs": [
    {
     "data": {
      "text/plain": [
       "str"
      ]
     },
     "execution_count": 47,
     "metadata": {},
     "output_type": "execute_result"
    }
   ],
   "source": [
    "type(s1)"
   ]
  },
  {
   "cell_type": "markdown",
   "id": "3800881e",
   "metadata": {},
   "source": [
    "# 2. Concatenation and Repetition operator"
   ]
  },
  {
   "cell_type": "code",
   "execution_count": 9,
   "id": "1dadf34f",
   "metadata": {},
   "outputs": [
    {
     "name": "stdout",
     "output_type": "stream",
     "text": [
      "100100\n"
     ]
    }
   ],
   "source": [
    "s1 = '100'\n",
    "s2 =  '100'\n",
    "\n",
    "#print(s1+s2)\n",
    "print(s1+s2) #concatenation  \"\"  this is for steps"
   ]
  },
  {
   "cell_type": "code",
   "execution_count": 8,
   "id": "f56e4680",
   "metadata": {},
   "outputs": [
    {
     "name": "stdout",
     "output_type": "stream",
     "text": [
      "200\n"
     ]
    }
   ],
   "source": [
    "p = 100\n",
    "pp = 100\n",
    "print(p+pp)"
   ]
  },
  {
   "cell_type": "code",
   "execution_count": 12,
   "id": "6b8366d9",
   "metadata": {},
   "outputs": [
    {
     "name": "stdout",
     "output_type": "stream",
     "text": [
      "sharmasharmasharmasharmasharma\n"
     ]
    }
   ],
   "source": [
    "phone = \"sharma\"\n",
    "\n",
    "print(phone*5)"
   ]
  },
  {
   "cell_type": "markdown",
   "id": "fc7e1e89",
   "metadata": {},
   "source": [
    "Strings are ordered sequences it means we can using indexing & slicing to grab the sub-section of the string"
   ]
  },
  {
   "cell_type": "markdown",
   "id": "dcc1beb4",
   "metadata": {},
   "source": [
    "# 3. Indexing"
   ]
  },
  {
   "cell_type": "markdown",
   "id": "7ae8a9a1",
   "metadata": {},
   "source": [
    "Indexing notation uses **[ ]** notation after the string  (or the variable assigned the string)\n",
    "\n",
    "Indexing allows you to grab a single character from the string\n",
    "\n",
    "These actions use [] square brackets & a number index to indicate positions of what you wish to grab"
   ]
  },
  {
   "cell_type": "markdown",
   "id": "e17e7580",
   "metadata": {},
   "source": [
    "**3.1. String Indexing with positive value** "
   ]
  },
  {
   "cell_type": "code",
   "execution_count": 13,
   "id": "ba1ea93b",
   "metadata": {},
   "outputs": [
    {
     "name": "stdout",
     "output_type": "stream",
     "text": [
      "10\n"
     ]
    }
   ],
   "source": [
    "a = \"HelloWorld\"\n",
    "print(len(a))"
   ]
  },
  {
   "cell_type": "code",
   "execution_count": 14,
   "id": "acb2f757",
   "metadata": {},
   "outputs": [
    {
     "data": {
      "text/plain": [
       "10"
      ]
     },
     "execution_count": 14,
     "metadata": {},
     "output_type": "execute_result"
    }
   ],
   "source": [
    "len(a)"
   ]
  },
  {
   "cell_type": "code",
   "execution_count": 17,
   "id": "2687946e",
   "metadata": {},
   "outputs": [
    {
     "name": "stdout",
     "output_type": "stream",
     "text": [
      "H\n"
     ]
    }
   ],
   "source": [
    "print(a[0])"
   ]
  },
  {
   "cell_type": "code",
   "execution_count": 12,
   "id": "35f808d2",
   "metadata": {},
   "outputs": [
    {
     "name": "stdout",
     "output_type": "stream",
     "text": [
      "e\n"
     ]
    }
   ],
   "source": [
    "print(a[1])"
   ]
  },
  {
   "cell_type": "code",
   "execution_count": 19,
   "id": "0b00bf3e",
   "metadata": {},
   "outputs": [
    {
     "name": "stdout",
     "output_type": "stream",
     "text": [
      "d\n"
     ]
    }
   ],
   "source": [
    "print(a[9])"
   ]
  },
  {
   "cell_type": "code",
   "execution_count": 14,
   "id": "73fab06b",
   "metadata": {},
   "outputs": [
    {
     "ename": "IndexError",
     "evalue": "string index out of range",
     "output_type": "error",
     "traceback": [
      "\u001b[1;31m---------------------------------------------------------------------------\u001b[0m",
      "\u001b[1;31mIndexError\u001b[0m                                Traceback (most recent call last)",
      "\u001b[1;32m~\\AppData\\Local\\Temp\\ipykernel_15776\\3397209967.py\u001b[0m in \u001b[0;36m<module>\u001b[1;34m\u001b[0m\n\u001b[1;32m----> 1\u001b[1;33m \u001b[0mprint\u001b[0m\u001b[1;33m(\u001b[0m\u001b[0ma\u001b[0m\u001b[1;33m[\u001b[0m\u001b[1;36m10\u001b[0m\u001b[1;33m]\u001b[0m\u001b[1;33m)\u001b[0m\u001b[1;33m\u001b[0m\u001b[1;33m\u001b[0m\u001b[0m\n\u001b[0m",
      "\u001b[1;31mIndexError\u001b[0m: string index out of range"
     ]
    }
   ],
   "source": [
    "print(a[10])"
   ]
  },
  {
   "cell_type": "markdown",
   "id": "4f01887b",
   "metadata": {},
   "source": [
    "**3.2. String Indexing with Negative value**"
   ]
  },
  {
   "cell_type": "code",
   "execution_count": 18,
   "id": "5cbd2435",
   "metadata": {},
   "outputs": [
    {
     "name": "stdout",
     "output_type": "stream",
     "text": [
      "d\n"
     ]
    }
   ],
   "source": [
    "print(a[-1])"
   ]
  },
  {
   "cell_type": "code",
   "execution_count": 16,
   "id": "13bef63f",
   "metadata": {},
   "outputs": [
    {
     "name": "stdout",
     "output_type": "stream",
     "text": [
      "H\n"
     ]
    }
   ],
   "source": [
    "print(a[-10])"
   ]
  },
  {
   "cell_type": "code",
   "execution_count": 17,
   "id": "cc7b5a0c",
   "metadata": {},
   "outputs": [
    {
     "ename": "IndexError",
     "evalue": "string index out of range",
     "output_type": "error",
     "traceback": [
      "\u001b[1;31m---------------------------------------------------------------------------\u001b[0m",
      "\u001b[1;31mIndexError\u001b[0m                                Traceback (most recent call last)",
      "\u001b[1;32m~\\AppData\\Local\\Temp\\ipykernel_15776\\3123755456.py\u001b[0m in \u001b[0;36m<module>\u001b[1;34m\u001b[0m\n\u001b[1;32m----> 1\u001b[1;33m \u001b[0mprint\u001b[0m\u001b[1;33m(\u001b[0m\u001b[0ma\u001b[0m\u001b[1;33m[\u001b[0m\u001b[1;33m-\u001b[0m\u001b[1;36m11\u001b[0m\u001b[1;33m]\u001b[0m\u001b[1;33m)\u001b[0m\u001b[1;33m\u001b[0m\u001b[1;33m\u001b[0m\u001b[0m\n\u001b[0m",
      "\u001b[1;31mIndexError\u001b[0m: string index out of range"
     ]
    }
   ],
   "source": [
    "print(a[-11])"
   ]
  },
  {
   "cell_type": "markdown",
   "id": "18a81f1a",
   "metadata": {},
   "source": [
    "# 4. Slicing"
   ]
  },
  {
   "cell_type": "markdown",
   "id": "2b7cedff",
   "metadata": {},
   "source": [
    "Slicing allows you to grab a subsection of mutiple character, a \"slice\" of a string.\n",
    "\n",
    "Slicing has the syntax : [Start : Stop : Step]\n",
    "\n",
    "**start** - is a numerical index for the slice start, **stop** - is the index you will go up to (but not include), \n",
    "**step** : is the size of \"jump\" you take"
   ]
  },
  {
   "cell_type": "code",
   "execution_count": 21,
   "id": "3e1ae95b",
   "metadata": {},
   "outputs": [
    {
     "name": "stdout",
     "output_type": "stream",
     "text": [
      "Helloworld\n"
     ]
    }
   ],
   "source": [
    "a = 'Helloworld'\n",
    "print(a)"
   ]
  },
  {
   "cell_type": "code",
   "execution_count": 22,
   "id": "aa210ce2",
   "metadata": {},
   "outputs": [
    {
     "name": "stdout",
     "output_type": "stream",
     "text": [
      "Helloworld\n"
     ]
    }
   ],
   "source": [
    "print(a[:])"
   ]
  },
  {
   "cell_type": "code",
   "execution_count": 30,
   "id": "374a1571",
   "metadata": {},
   "outputs": [
    {
     "name": "stdout",
     "output_type": "stream",
     "text": [
      "elloworld\n"
     ]
    }
   ],
   "source": [
    "print(a[1:])"
   ]
  },
  {
   "cell_type": "code",
   "execution_count": 34,
   "id": "882e127c",
   "metadata": {},
   "outputs": [
    {
     "name": "stdout",
     "output_type": "stream",
     "text": [
      "Hello\n"
     ]
    }
   ],
   "source": [
    "print(a[0:5])"
   ]
  },
  {
   "cell_type": "code",
   "execution_count": null,
   "id": "c3adfc24",
   "metadata": {},
   "outputs": [],
   "source": []
  },
  {
   "cell_type": "code",
   "execution_count": 87,
   "id": "27935148",
   "metadata": {},
   "outputs": [
    {
     "name": "stdout",
     "output_type": "stream",
     "text": [
      "HelloWorld\n"
     ]
    }
   ],
   "source": [
    "print(a[0:]) #here the index start from 0 but didn't mention where to stop, in this case it will print the entire string"
   ]
  },
  {
   "cell_type": "code",
   "execution_count": 21,
   "id": "12162f64",
   "metadata": {},
   "outputs": [
    {
     "name": "stdout",
     "output_type": "stream",
     "text": [
      "elloWorld\n"
     ]
    }
   ],
   "source": [
    "print(a[1:])"
   ]
  },
  {
   "cell_type": "code",
   "execution_count": 22,
   "id": "9ab2b443",
   "metadata": {},
   "outputs": [
    {
     "name": "stdout",
     "output_type": "stream",
     "text": [
      "ld\n"
     ]
    }
   ],
   "source": [
    "print(a[8:])"
   ]
  },
  {
   "cell_type": "code",
   "execution_count": 23,
   "id": "00cf85ef",
   "metadata": {},
   "outputs": [
    {
     "name": "stdout",
     "output_type": "stream",
     "text": [
      "d\n"
     ]
    }
   ],
   "source": [
    "print(a[9:])"
   ]
  },
  {
   "cell_type": "code",
   "execution_count": 37,
   "id": "da69dfa9",
   "metadata": {},
   "outputs": [
    {
     "name": "stdout",
     "output_type": "stream",
     "text": [
      "\n"
     ]
    }
   ],
   "source": [
    "print(a[10:])"
   ]
  },
  {
   "cell_type": "code",
   "execution_count": 40,
   "id": "205e7e05",
   "metadata": {},
   "outputs": [
    {
     "name": "stdout",
     "output_type": "stream",
     "text": [
      "Helloworld\n"
     ]
    }
   ],
   "source": [
    "print(a[0:10])"
   ]
  },
  {
   "cell_type": "code",
   "execution_count": 26,
   "id": "427ef17a",
   "metadata": {},
   "outputs": [
    {
     "name": "stdout",
     "output_type": "stream",
     "text": [
      "HelloWorl\n"
     ]
    }
   ],
   "source": [
    "print(a[0:9])"
   ]
  },
  {
   "cell_type": "code",
   "execution_count": 27,
   "id": "c5da5d56",
   "metadata": {},
   "outputs": [
    {
     "name": "stdout",
     "output_type": "stream",
     "text": [
      "HelloWor\n"
     ]
    }
   ],
   "source": [
    "print(a[0:8])"
   ]
  },
  {
   "cell_type": "code",
   "execution_count": 28,
   "id": "cd25933c",
   "metadata": {
    "scrolled": true
   },
   "outputs": [
    {
     "name": "stdout",
     "output_type": "stream",
     "text": [
      "HelloWorl\n"
     ]
    }
   ],
   "source": [
    "print(a[0:9]) #Bydefault step is 1"
   ]
  },
  {
   "cell_type": "code",
   "execution_count": 42,
   "id": "61112f4f",
   "metadata": {},
   "outputs": [
    {
     "data": {
      "text/plain": [
       "10"
      ]
     },
     "execution_count": 42,
     "metadata": {},
     "output_type": "execute_result"
    }
   ],
   "source": [
    "a2 = '0123456789'\n",
    "len(a2)"
   ]
  },
  {
   "cell_type": "code",
   "execution_count": 45,
   "id": "3c411fe4",
   "metadata": {},
   "outputs": [
    {
     "name": "stdout",
     "output_type": "stream",
     "text": [
      "02468\n"
     ]
    }
   ],
   "source": [
    "print(a2[0:9:2])"
   ]
  },
  {
   "cell_type": "code",
   "execution_count": 98,
   "id": "b796117f",
   "metadata": {},
   "outputs": [
    {
     "name": "stdout",
     "output_type": "stream",
     "text": [
      "HelloWorld\n"
     ]
    }
   ],
   "source": [
    "print(a)"
   ]
  },
  {
   "cell_type": "code",
   "execution_count": 46,
   "id": "cd935471",
   "metadata": {},
   "outputs": [
    {
     "name": "stdout",
     "output_type": "stream",
     "text": [
      "dlrowolleH\n"
     ]
    }
   ],
   "source": [
    "print(a[::-1]) #Reverse "
   ]
  },
  {
   "cell_type": "code",
   "execution_count": null,
   "id": "13cfb8e6",
   "metadata": {},
   "outputs": [],
   "source": []
  },
  {
   "cell_type": "code",
   "execution_count": 48,
   "id": "30b31b3a",
   "metadata": {},
   "outputs": [
    {
     "name": "stdout",
     "output_type": "stream",
     "text": [
      "world\n"
     ]
    }
   ],
   "source": [
    "print(a[-5:])"
   ]
  },
  {
   "cell_type": "code",
   "execution_count": 49,
   "id": "15308f72",
   "metadata": {},
   "outputs": [
    {
     "name": "stdout",
     "output_type": "stream",
     "text": [
      "Helloworld\n"
     ]
    }
   ],
   "source": [
    "print(a)"
   ]
  },
  {
   "cell_type": "code",
   "execution_count": 32,
   "id": "94a81c99",
   "metadata": {},
   "outputs": [
    {
     "name": "stdout",
     "output_type": "stream",
     "text": [
      "oWorld\n"
     ]
    }
   ],
   "source": [
    "print(a[-6:])"
   ]
  },
  {
   "cell_type": "code",
   "execution_count": 33,
   "id": "ee295c5b",
   "metadata": {},
   "outputs": [
    {
     "name": "stdout",
     "output_type": "stream",
     "text": [
      "Worl\n"
     ]
    }
   ],
   "source": [
    "print(a[-5:-1])"
   ]
  },
  {
   "cell_type": "code",
   "execution_count": 34,
   "id": "64cbaa61",
   "metadata": {},
   "outputs": [
    {
     "name": "stdout",
     "output_type": "stream",
     "text": [
      "HelloWorl\n"
     ]
    }
   ],
   "source": [
    "print(a[-10:-1:])"
   ]
  },
  {
   "cell_type": "code",
   "execution_count": 35,
   "id": "3c1eae1c",
   "metadata": {},
   "outputs": [
    {
     "name": "stdout",
     "output_type": "stream",
     "text": [
      "Hlool\n"
     ]
    }
   ],
   "source": [
    "print(a[-10:-1:2])"
   ]
  },
  {
   "cell_type": "code",
   "execution_count": 50,
   "id": "f57c1b6c",
   "metadata": {},
   "outputs": [
    {
     "name": "stdout",
     "output_type": "stream",
     "text": [
      "dolH\n"
     ]
    }
   ],
   "source": [
    "print(a[::-3])"
   ]
  },
  {
   "cell_type": "code",
   "execution_count": null,
   "id": "fa029ab0",
   "metadata": {},
   "outputs": [],
   "source": [
    "print(a[::2])"
   ]
  },
  {
   "cell_type": "code",
   "execution_count": null,
   "id": "8ade1560",
   "metadata": {},
   "outputs": [],
   "source": [
    "print(a[::3])"
   ]
  },
  {
   "cell_type": "code",
   "execution_count": null,
   "id": "df4662f8",
   "metadata": {},
   "outputs": [],
   "source": [
    "print(a[::-2])"
   ]
  },
  {
   "cell_type": "markdown",
   "id": "a9a995ad",
   "metadata": {},
   "source": [
    "# 5. String Properties and Method"
   ]
  },
  {
   "cell_type": "code",
   "execution_count": 118,
   "id": "b816848d",
   "metadata": {},
   "outputs": [
    {
     "name": "stdout",
     "output_type": "stream",
     "text": [
      "<class 'str'>\n"
     ]
    }
   ],
   "source": [
    "name = \"Sukesh\"\n",
    "print(type(name))"
   ]
  },
  {
   "cell_type": "code",
   "execution_count": 119,
   "id": "ef7df451",
   "metadata": {},
   "outputs": [
    {
     "data": {
      "text/plain": [
       "'S'"
      ]
     },
     "execution_count": 119,
     "metadata": {},
     "output_type": "execute_result"
    }
   ],
   "source": [
    "name[0]"
   ]
  },
  {
   "cell_type": "code",
   "execution_count": 120,
   "id": "a01fcce4",
   "metadata": {},
   "outputs": [
    {
     "ename": "TypeError",
     "evalue": "'str' object does not support item assignment",
     "output_type": "error",
     "traceback": [
      "\u001b[1;31m---------------------------------------------------------------------------\u001b[0m",
      "\u001b[1;31mTypeError\u001b[0m                                 Traceback (most recent call last)",
      "\u001b[1;32m~\\AppData\\Local\\Temp\\ipykernel_15776\\391030762.py\u001b[0m in \u001b[0;36m<module>\u001b[1;34m\u001b[0m\n\u001b[1;32m----> 1\u001b[1;33m \u001b[0mname\u001b[0m\u001b[1;33m[\u001b[0m\u001b[1;36m0\u001b[0m\u001b[1;33m]\u001b[0m \u001b[1;33m=\u001b[0m \u001b[1;34m\"M\"\u001b[0m\u001b[1;33m\u001b[0m\u001b[1;33m\u001b[0m\u001b[0m\n\u001b[0m",
      "\u001b[1;31mTypeError\u001b[0m: 'str' object does not support item assignment"
     ]
    }
   ],
   "source": [
    "name[0] = \"M\""
   ]
  },
  {
   "cell_type": "code",
   "execution_count": 121,
   "id": "9a31c64a",
   "metadata": {},
   "outputs": [
    {
     "name": "stdout",
     "output_type": "stream",
     "text": [
      "['S', 'u', 'k', 'e', 's', 'h']\n"
     ]
    }
   ],
   "source": [
    "name_1 = [\"S\",\"u\",\"k\",\"e\",\"s\",\"h\"]\n",
    "print(name_1)"
   ]
  },
  {
   "cell_type": "code",
   "execution_count": 128,
   "id": "00b90217",
   "metadata": {},
   "outputs": [
    {
     "data": {
      "text/plain": [
       "list"
      ]
     },
     "execution_count": 128,
     "metadata": {},
     "output_type": "execute_result"
    }
   ],
   "source": [
    "type(name_1)"
   ]
  },
  {
   "cell_type": "code",
   "execution_count": 133,
   "id": "3f49dccc",
   "metadata": {},
   "outputs": [],
   "source": [
    "name_1[5] = \"B\""
   ]
  },
  {
   "cell_type": "code",
   "execution_count": 134,
   "id": "f2e58dbc",
   "metadata": {},
   "outputs": [
    {
     "name": "stdout",
     "output_type": "stream",
     "text": [
      "['B', 'u', 'k', 'e', 's', 'B']\n"
     ]
    }
   ],
   "source": [
    "print(name_1)"
   ]
  },
  {
   "cell_type": "code",
   "execution_count": 136,
   "id": "2be8a4fb",
   "metadata": {},
   "outputs": [
    {
     "name": "stdout",
     "output_type": "stream",
     "text": [
      "['B', 'u', 'k', 'e', 's', 'B']\n"
     ]
    }
   ],
   "source": [
    "print(name_1)"
   ]
  },
  {
   "cell_type": "code",
   "execution_count": 126,
   "id": "f8d8f7fd",
   "metadata": {},
   "outputs": [
    {
     "name": "stdout",
     "output_type": "stream",
     "text": [
      "ukesh\n"
     ]
    }
   ],
   "source": [
    "lastname= name[1:]\n",
    "print(lastname)"
   ]
  },
  {
   "cell_type": "code",
   "execution_count": 137,
   "id": "d955ef41",
   "metadata": {},
   "outputs": [
    {
     "name": "stdout",
     "output_type": "stream",
     "text": [
      "Mukesh\n"
     ]
    }
   ],
   "source": [
    "Final_name = \"M\" + lastname\n",
    "print(Final_name)"
   ]
  },
  {
   "cell_type": "markdown",
   "id": "41e60d05",
   "metadata": {},
   "source": [
    "# 6. Basic Build-in String Method"
   ]
  },
  {
   "cell_type": "code",
   "execution_count": 138,
   "id": "b3153cd7",
   "metadata": {},
   "outputs": [],
   "source": [
    "x = \"hello world\"\n",
    "y = \"PROGRAMMING\""
   ]
  },
  {
   "cell_type": "code",
   "execution_count": 139,
   "id": "273f1006",
   "metadata": {},
   "outputs": [
    {
     "name": "stdout",
     "output_type": "stream",
     "text": [
      "hello world\n"
     ]
    }
   ],
   "source": [
    "print(x)"
   ]
  },
  {
   "cell_type": "code",
   "execution_count": 140,
   "id": "4e77c3c9",
   "metadata": {},
   "outputs": [
    {
     "data": {
      "text/plain": [
       "'HELLO WORLD'"
      ]
     },
     "execution_count": 140,
     "metadata": {},
     "output_type": "execute_result"
    }
   ],
   "source": [
    "x.upper()"
   ]
  },
  {
   "cell_type": "code",
   "execution_count": 141,
   "id": "8dd03708",
   "metadata": {},
   "outputs": [
    {
     "data": {
      "text/plain": [
       "'programming'"
      ]
     },
     "execution_count": 141,
     "metadata": {},
     "output_type": "execute_result"
    }
   ],
   "source": [
    "y.lower()"
   ]
  },
  {
   "cell_type": "code",
   "execution_count": 145,
   "id": "23f3b14c",
   "metadata": {},
   "outputs": [
    {
     "data": {
      "text/plain": [
       "6"
      ]
     },
     "execution_count": 145,
     "metadata": {},
     "output_type": "execute_result"
    }
   ],
   "source": [
    "x.index(\"w\")"
   ]
  },
  {
   "cell_type": "code",
   "execution_count": 143,
   "id": "21035fd6",
   "metadata": {},
   "outputs": [
    {
     "data": {
      "text/plain": [
       "2"
      ]
     },
     "execution_count": 143,
     "metadata": {},
     "output_type": "execute_result"
    }
   ],
   "source": [
    "x.index(\"l\")"
   ]
  },
  {
   "cell_type": "code",
   "execution_count": 148,
   "id": "d18655ba",
   "metadata": {},
   "outputs": [
    {
     "data": {
      "text/plain": [
       "2"
      ]
     },
     "execution_count": 148,
     "metadata": {},
     "output_type": "execute_result"
    }
   ],
   "source": [
    "y.count(\"M\")"
   ]
  },
  {
   "cell_type": "markdown",
   "id": "7d48bc53",
   "metadata": {},
   "source": [
    "# 7. The Format Method"
   ]
  },
  {
   "cell_type": "code",
   "execution_count": 149,
   "id": "037d17b3",
   "metadata": {},
   "outputs": [
    {
     "name": "stdout",
     "output_type": "stream",
     "text": [
      "one,25,4.5\n"
     ]
    }
   ],
   "source": [
    "s1 = \"{},{},{}\"\n",
    "x = \"one\"\n",
    "y = 25\n",
    "z = 4.5\n",
    "\n",
    "print(s1.format(x,y,z))"
   ]
  },
  {
   "cell_type": "code",
   "execution_count": 153,
   "id": "00d35daa",
   "metadata": {},
   "outputs": [
    {
     "name": "stdout",
     "output_type": "stream",
     "text": [
      "one,25,4.5\n"
     ]
    }
   ],
   "source": [
    "print(s1.format(x,y,z))"
   ]
  },
  {
   "cell_type": "code",
   "execution_count": 151,
   "id": "7bfe14d2",
   "metadata": {},
   "outputs": [
    {
     "name": "stdout",
     "output_type": "stream",
     "text": [
      "30,10,20\n"
     ]
    }
   ],
   "source": [
    "print(\"{2},{0},{1}\".format(10, 20, 30))"
   ]
  },
  {
   "cell_type": "code",
   "execution_count": 152,
   "id": "4e92de04",
   "metadata": {},
   "outputs": [
    {
     "name": "stdout",
     "output_type": "stream",
     "text": [
      "B,A,B\n"
     ]
    }
   ],
   "source": [
    "print(\"{1},{0},{1}\".format('A','B','D'))"
   ]
  },
  {
   "cell_type": "code",
   "execution_count": 154,
   "id": "5ee82126",
   "metadata": {},
   "outputs": [
    {
     "name": "stdout",
     "output_type": "stream",
     "text": [
      "Rahul,how are you\n"
     ]
    }
   ],
   "source": [
    "print('{},how are you'.format(\"Rahul\"))"
   ]
  },
  {
   "cell_type": "code",
   "execution_count": null,
   "id": "be2229b9",
   "metadata": {},
   "outputs": [],
   "source": []
  }
 ],
 "metadata": {
  "kernelspec": {
   "display_name": "Python 3 (ipykernel)",
   "language": "python",
   "name": "python3"
  },
  "language_info": {
   "codemirror_mode": {
    "name": "ipython",
    "version": 3
   },
   "file_extension": ".py",
   "mimetype": "text/x-python",
   "name": "python",
   "nbconvert_exporter": "python",
   "pygments_lexer": "ipython3",
   "version": "3.9.13"
  }
 },
 "nbformat": 4,
 "nbformat_minor": 5
}
