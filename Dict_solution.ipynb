{
 "cells": [
  {
   "cell_type": "raw",
   "id": "fa69fd73",
   "metadata": {},
   "source": [
    "Longest Word in Sentence:\n",
    "\n",
    "Write a Python function longest_word(sentence) that takes a sentence as input and returns the longest word in the sentence. If there are multiple longest words, return the first one."
   ]
  },
  {
   "cell_type": "code",
   "execution_count": 6,
   "id": "ae2d657d",
   "metadata": {},
   "outputs": [
    {
     "name": "stdout",
     "output_type": "stream",
     "text": [
      "MogliGo\n"
     ]
    }
   ],
   "source": [
    "def longest_word(sentence):\n",
    "    words = sentence.split()\n",
    "    longest = max(words, key=len)\n",
    "    return longest\n",
    "\n",
    "# Example usage:\n",
    "sentence = \"The quick brown fox MogliGo over the lazy dog\"\n",
    "longest = longest_word(sentence)\n",
    "print(longest)\n"
   ]
  },
  {
   "cell_type": "code",
   "execution_count": 5,
   "id": "c4a3c20b",
   "metadata": {},
   "outputs": [
    {
     "name": "stdout",
     "output_type": "stream",
     "text": [
      "[111,2222,4444,10000]\n"
     ]
    }
   ],
   "source": [
    "def longest_word(sun):\n",
    "    words = sun.split()\n",
    "    longest = max(words, key=len)\n",
    "    return longest\n",
    "\n",
    "# Example usage:\n",
    "sun = \"[111,2222,4444,10000]\"\n",
    "longest = longest_word(sun)\n",
    "print(longest)"
   ]
  },
  {
   "cell_type": "raw",
   "id": "56d778b2",
   "metadata": {},
   "source": [
    "Write a Python function remove_duplicates(numbers) that takes a list of numbers as input and returns a new list with duplicates removed, while preserving the original order."
   ]
  },
  {
   "cell_type": "code",
   "execution_count": 6,
   "id": "bff5a655",
   "metadata": {},
   "outputs": [
    {
     "name": "stdout",
     "output_type": "stream",
     "text": [
      "[11, 11]\n"
     ]
    }
   ],
   "source": [
    "a = [11,11]\n",
    "print(a)"
   ]
  },
  {
   "cell_type": "code",
   "execution_count": 2,
   "id": "149a8d0f",
   "metadata": {},
   "outputs": [
    {
     "name": "stdout",
     "output_type": "stream",
     "text": [
      "[1, 3, 5, 7, 8]\n"
     ]
    }
   ],
   "source": [
    "def remove_duplicates(numbers):\n",
    "    unique_numbers = []\n",
    "    for num in numbers:\n",
    "        if num not in unique_numbers:\n",
    "            unique_numbers.append(num)\n",
    "    return unique_numbers\n",
    "\n",
    "# Example usage:\n",
    "numbers = [1, 3, 5, 3, 7, 5, 8, 8]\n",
    "result = remove_duplicates(numbers)\n",
    "print(result)\n"
   ]
  },
  {
   "cell_type": "code",
   "execution_count": null,
   "id": "eedab0d5",
   "metadata": {},
   "outputs": [],
   "source": []
  },
  {
   "cell_type": "raw",
   "id": "739bf083",
   "metadata": {},
   "source": [
    "Write a Python function is_anagram(word1, word2) that takes two words as input and returns True if they are anagrams of each other, and False otherwise."
   ]
  },
  {
   "cell_type": "code",
   "execution_count": 3,
   "id": "e2d74a43",
   "metadata": {},
   "outputs": [
    {
     "name": "stdout",
     "output_type": "stream",
     "text": [
      "True\n"
     ]
    }
   ],
   "source": [
    "def is_anagram(word1, word2):\n",
    "    return sorted(word1.lower()) == sorted(word2.lower())\n",
    "\n",
    "# Example usage:\n",
    "word1 = \"listen\"\n",
    "word2 = \"silent\"\n",
    "result = is_anagram(word1, word2)\n",
    "print(result)\n"
   ]
  },
  {
   "cell_type": "raw",
   "id": "32bf5c8c",
   "metadata": {},
   "source": [
    " "
   ]
  },
  {
   "cell_type": "code",
   "execution_count": 8,
   "id": "8e46785b",
   "metadata": {},
   "outputs": [
    {
     "name": "stdout",
     "output_type": "stream",
     "text": [
      "{'i': 2, 'o': 0, 'u': 0, 'e': 1, 'a': 2}\n"
     ]
    }
   ],
   "source": [
    "def count_vowels(text):\n",
    "    vowels = {'a', 'e', 'i', 'o', 'u'}\n",
    "    vowel_count = {vowel: 0 for vowel in vowels}\n",
    "    for char in text.lower():\n",
    "        if char in vowels:\n",
    "            vowel_count[char] += 1\n",
    "    return vowel_count\n",
    "\n",
    "# Example usage:\n",
    "text = \"my name is ankit\"\n",
    "vowels_count = count_vowels(text)\n",
    "print(vowels_count)\n"
   ]
  },
  {
   "cell_type": "code",
   "execution_count": null,
   "id": "c48d73c0",
   "metadata": {},
   "outputs": [],
   "source": []
  },
  {
   "cell_type": "code",
   "execution_count": null,
   "id": "d376dd92",
   "metadata": {},
   "outputs": [],
   "source": []
  },
  {
   "cell_type": "code",
   "execution_count": null,
   "id": "144d5f50",
   "metadata": {},
   "outputs": [],
   "source": []
  },
  {
   "cell_type": "code",
   "execution_count": null,
   "id": "1ccb2f18",
   "metadata": {},
   "outputs": [],
   "source": []
  }
 ],
 "metadata": {
  "kernelspec": {
   "display_name": "Python 3 (ipykernel)",
   "language": "python",
   "name": "python3"
  },
  "language_info": {
   "codemirror_mode": {
    "name": "ipython",
    "version": 3
   },
   "file_extension": ".py",
   "mimetype": "text/x-python",
   "name": "python",
   "nbconvert_exporter": "python",
   "pygments_lexer": "ipython3",
   "version": "3.9.13"
  }
 },
 "nbformat": 4,
 "nbformat_minor": 5
}
